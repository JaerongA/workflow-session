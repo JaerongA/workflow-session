{
 "cells": [
  {
   "cell_type": "markdown",
   "id": "3054518f-87bc-42ff-a3e7-84bf3d2a37f6",
   "metadata": {},
   "source": [
    "# DataJoint U24 - Export Session"
   ]
  },
  {
   "cell_type": "markdown",
   "id": "79c15f36-039d-4304-96be-f56ba0d6b10a",
   "metadata": {},
   "source": [
    "Same as before, import data."
   ]
  },
  {
   "cell_type": "code",
   "execution_count": 2,
   "id": "39dda42b-a81b-4f04-8ec4-eef559168379",
   "metadata": {},
   "outputs": [
    {
     "name": "stdout",
     "output_type": "stream",
     "text": [
      "Connecting root@localhost:3306\n",
      "\n",
      "---- Insert 2 entry(s) into lab tables ----\n",
      "\n",
      "---- Insert 2 entry(s) into project table ----\n",
      "\n",
      "---- Insert entry(s) into publication/keyword tables ----\n",
      "\n",
      "---- Insert 2 entry(s) into protocol tables ----\n",
      "\n",
      "---- Insert 2 entry(s) into subject tables ----\n",
      "\n",
      "---- Insert 2 entry(s) into session.Session ----\n"
     ]
    }
   ],
   "source": [
    "import os\n",
    "os.chdir('..')\n",
    "import datajoint as dj\n",
    "dj.conn()\n",
    "from workflow_session.pipeline import * \n",
    "from workflow_session.ingest import *\n",
    "ingest_lab(); ingest_subjects();ingest_sessions()"
   ]
  },
  {
   "cell_type": "markdown",
   "id": "ab2a3f10-b96e-4f0d-9e54-0015bb9b8622",
   "metadata": {},
   "source": [
    "Identify items for export with keys."
   ]
  },
  {
   "cell_type": "code",
   "execution_count": 3,
   "id": "76c040c8-15cc-4d61-ae5d-bc7646a6a0be",
   "metadata": {},
   "outputs": [],
   "source": [
    "session_key=(session.Session&'subject=\"subject5\"').fetch1('KEY')\n",
    "mylab_key = (lab.Lab & 'lab=\"LabA\"').fetch1('KEY')\n",
    "myproj_key= (lab.Project & 'project=\"ProjA\"').fetch1('KEY')\n",
    "myprot_key= (lab.Protocol() & 'protocol=\"ProtA\"').fetch1('KEY')"
   ]
  },
  {
   "cell_type": "markdown",
   "id": "902e050c-3133-4fb7-850d-f0b954e1b634",
   "metadata": {},
   "source": [
    "Get export function and related pynwb dependency, then export with keys from prev step."
   ]
  },
  {
   "cell_type": "code",
   "execution_count": 4,
   "id": "e76fa25d-700b-4f9a-9bb4-62d2217288b6",
   "metadata": {},
   "outputs": [
    {
     "name": "stderr",
     "output_type": "stream",
     "text": [
      "/Users/cb/miniconda3/envs/venv-nwb/lib/python3.8/site-packages/pynwb/file.py:753: UserWarning: Date is missing timezone information. Updating to local timezone.\n",
      "  warn(\"Date is missing timezone information. Updating to local timezone.\")\n"
     ]
    },
    {
     "data": {
      "text/plain": [
       "root pynwb.file.NWBFile at 0x140227470306368\n",
       "Fields:\n",
       "  file_create_date: [datetime.datetime(2021, 12, 1, 15, 14, 12, 86034, tzinfo=tzlocal())]\n",
       "  identifier: subject5_20200415_111638\n",
       "  institution: Example Uni\n",
       "  session_description: Successful data collection, no notes\n",
       "  session_start_time: 2020-04-15 11:16:38-05:00\n",
       "  timestamps_reference_time: 2020-04-15 11:16:38-05:00"
      ]
     },
     "execution_count": 4,
     "metadata": {},
     "output_type": "execute_result"
    }
   ],
   "source": [
    "import pynwb\n",
    "from element_session.export import *\n",
    "session_to_nwb(session_key,lab_key=mylab_key,project_key=myproj_key)"
   ]
  },
  {
   "cell_type": "markdown",
   "id": "1bccad09-d5e4-4200-bb73-08ddf98cfb80",
   "metadata": {},
   "source": [
    "Learn more about using NWB formats [here](https://www.nwb.org/how-to-use/)."
   ]
  }
 ],
 "metadata": {
  "kernelspec": {
   "display_name": "venv-nwb",
   "language": "python",
   "name": "venv-nwb"
  },
  "language_info": {
   "codemirror_mode": {
    "name": "ipython",
    "version": 3
   },
   "file_extension": ".py",
   "mimetype": "text/x-python",
   "name": "python",
   "nbconvert_exporter": "python",
   "pygments_lexer": "ipython3",
   "version": "3.8.11"
  }
 },
 "nbformat": 4,
 "nbformat_minor": 5
}
