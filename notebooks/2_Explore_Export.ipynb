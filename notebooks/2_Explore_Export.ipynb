{
 "cells": [
  {
   "cell_type": "markdown",
   "id": "3054518f-87bc-42ff-a3e7-84bf3d2a37f6",
   "metadata": {},
   "source": [
    "# DataJoint U24 - Export Session"
   ]
  },
  {
   "cell_type": "markdown",
   "id": "79c15f36-039d-4304-96be-f56ba0d6b10a",
   "metadata": {},
   "source": [
    "Same as before, import data."
   ]
  },
  {
   "cell_type": "code",
   "execution_count": 1,
   "id": "0e7fa407-d67b-403e-975c-bd0bd499d88c",
   "metadata": {},
   "outputs": [],
   "source": [
    "import os\n",
    "if os.path.basename(os.getcwd())!='workflow-session': os.chdir('..')"
   ]
  },
  {
   "cell_type": "code",
   "execution_count": 2,
   "id": "6f11ca71-5e4f-460c-ad94-2037ef0f6448",
   "metadata": {},
   "outputs": [
    {
     "name": "stdout",
     "output_type": "stream",
     "text": [
      "Connecting root@localhost:3306\n",
      "\n",
      "---- Insert 2 entry(s) into lab tables ----\n",
      "\n",
      "---- Insert 2 entry(s) into project table ----\n",
      "\n",
      "---- Insert entry(s) into publication/keyword tables ----\n",
      "\n",
      "---- Insert 2 entry(s) into protocol tables ----\n",
      "\n",
      "---- Insert 2 entry(s) into subject tables ----\n",
      "\n",
      "---- Insert 2 entry(s) into session.Session ----\n"
     ]
    }
   ],
   "source": [
    "import datajoint as dj\n",
    "dj.conn()\n",
    "from workflow_session.pipeline import * \n",
    "from workflow_session.ingest import *\n",
    "## delete if needed, to update/repopulate\n",
    "# lab.Lab.delete();lab.Project.delete();lab.Protocol.delete()\n",
    "ingest_lab(); ingest_subjects();ingest_sessions()"
   ]
  },
  {
   "cell_type": "markdown",
   "id": "ab2a3f10-b96e-4f0d-9e54-0015bb9b8622",
   "metadata": {},
   "source": [
    "Identify items for export with keys."
   ]
  },
  {
   "cell_type": "code",
   "execution_count": 3,
   "id": "76c040c8-15cc-4d61-ae5d-bc7646a6a0be",
   "metadata": {},
   "outputs": [],
   "source": [
    "session_key=(session.Session&'subject=\"subject5\"').fetch1('KEY')\n",
    "mylab_key = (lab.Lab & 'lab=\"LabA\"').fetch1('KEY')\n",
    "myproj_key= (lab.Project & 'project=\"ProjA\"').fetch1('KEY')\n",
    "myprot_key= (lab.Protocol() & 'protocol=\"ProtA\"').fetch1('KEY')"
   ]
  },
  {
   "cell_type": "markdown",
   "id": "902e050c-3133-4fb7-850d-f0b954e1b634",
   "metadata": {},
   "source": [
    "Get export function and related pynwb dependency, then export with keys from prev step."
   ]
  },
  {
   "cell_type": "code",
   "execution_count": 4,
   "id": "e76fa25d-700b-4f9a-9bb4-62d2217288b6",
   "metadata": {},
   "outputs": [
    {
     "name": "stderr",
     "output_type": "stream",
     "text": [
      "/Users/cb/miniconda3/envs/venv-nwb/lib/python3.8/site-packages/pynwb/file.py:753: UserWarning: Date is missing timezone information. Updating to local timezone.\n",
      "  warn(\"Date is missing timezone information. Updating to local timezone.\")\n"
     ]
    }
   ],
   "source": [
    "from element_session.export import *\n",
    "mynwbfile=session_to_nwb(session_key,lab_key=mylab_key,project_key=myproj_key,protocol_key=myprot_key)"
   ]
  },
  {
   "cell_type": "markdown",
   "id": "1bccad09-d5e4-4200-bb73-08ddf98cfb80",
   "metadata": {},
   "source": [
    "Learn more about using NWB formats [here](https://www.nwb.org/how-to-use/)."
   ]
  },
  {
   "cell_type": "code",
   "execution_count": 5,
   "id": "b914d8db-2584-403c-9f24-12a64103f1cb",
   "metadata": {},
   "outputs": [],
   "source": [
    "from pynwb import NWBHDF5IO\n",
    "with NWBHDF5IO('session_metadata.nwb', mode='w') as io:\n",
    "    io.write(mynwbfile)"
   ]
  },
  {
   "cell_type": "code",
   "execution_count": 6,
   "id": "c81b1c85-9623-4cc1-9438-79b0c5287756",
   "metadata": {},
   "outputs": [
    {
     "name": "stdout",
     "output_type": "stream",
     "text": [
      "root pynwb.file.NWBFile at 0x140188285966704\n",
      "Fields:\n",
      "  experiment_description: Example project to populate element-lab\n",
      "  file_create_date: [datetime.datetime(2021, 12, 1, 17, 43, 52, 279976, tzinfo=tzlocal())]\n",
      "  identifier: subject5_20200415_111638\n",
      "  institution: Example Uni\n",
      "  keywords: ['Example' 'Study']\n",
      "  lab: The Example Lab\n",
      "  pharmacology: Subjects were administered 10ul sedative prior to surgery\n",
      "  protocol: ProtA\n",
      "  related_publications: ['arXiv:1807.11104' 'arXiv:1807.11104v1']\n",
      "  session_description: Successful data collection, no notes\n",
      "  session_start_time: 2020-04-15 11:16:38-05:00\n",
      "  source_script: https://github.com/datajoint/element-lab/\n",
      "  source_script_file_name: DataJoint element-session/export/nwb.py\n",
      "  surgery: Craniotomy performed by session experimenter\n",
      "  timestamps_reference_time: 2020-04-15 11:16:38-05:00\n",
      "\n"
     ]
    }
   ],
   "source": [
    "print(mynwbfile)"
   ]
  }
 ],
 "metadata": {
  "kernelspec": {
   "display_name": "venv-nwb",
   "language": "python",
   "name": "venv-nwb"
  },
  "language_info": {
   "codemirror_mode": {
    "name": "ipython",
    "version": 3
   },
   "file_extension": ".py",
   "mimetype": "text/x-python",
   "name": "python",
   "nbconvert_exporter": "python",
   "pygments_lexer": "ipython3",
   "version": "3.8.11"
  }
 },
 "nbformat": 4,
 "nbformat_minor": 5
}
