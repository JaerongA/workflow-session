{
 "cells": [
  {
   "cell_type": "markdown",
   "id": "3054518f-87bc-42ff-a3e7-84bf3d2a37f6",
   "metadata": {},
   "source": [
    "# DataJoint U24 - Export Session"
   ]
  },
  {
   "cell_type": "markdown",
   "id": "79c15f36-039d-4304-96be-f56ba0d6b10a",
   "metadata": {},
   "source": [
    "Same as before, import data."
   ]
  },
  {
   "cell_type": "code",
   "execution_count": 1,
   "id": "0e7fa407-d67b-403e-975c-bd0bd499d88c",
   "metadata": {},
   "outputs": [],
   "source": [
    "import os\n",
    "if os.path.basename(os.getcwd())=='notebooks': os.chdir('..')"
   ]
  },
  {
   "cell_type": "code",
   "execution_count": 2,
   "id": "6f11ca71-5e4f-460c-ad94-2037ef0f6448",
   "metadata": {},
   "outputs": [
    {
     "name": "stdout",
     "output_type": "stream",
     "text": [
      "Connecting root@localhost:3306\n",
      "\n",
      "---- Insert 2 entry(s) into lab tables ----\n",
      "\n",
      "---- Insert 2 entry(s) into project table ----\n",
      "\n",
      "---- Insert entry(s) into publication/keyword tables ----\n",
      "\n",
      "---- Insert 2 entry(s) into protocol tables ----\n",
      "\n",
      "---- Insert 2 entry(s) into subject tables ----\n",
      "\n",
      "---- Insert 2 entry(s) into session.Session ----\n"
     ]
    }
   ],
   "source": [
    "import datajoint as dj\n",
    "dj.conn()\n",
    "from element_lab import lab\n",
    "from element_animal import subject\n",
    "from element_session import session\n",
    "from workflow_session.ingest import ingest_lab, ingest_subjects, ingest_sessions\n",
    "## delete if needed, to update/repopulate\n",
    "# lab.Lab.delete();lab.Project.delete();lab.Protocol.delete()\n",
    "ingest_lab(); ingest_subjects();ingest_sessions()"
   ]
  },
  {
   "cell_type": "markdown",
   "id": "ab2a3f10-b96e-4f0d-9e54-0015bb9b8622",
   "metadata": {},
   "source": [
    "Identify items for export with keys."
   ]
  },
  {
   "cell_type": "code",
   "execution_count": 3,
   "id": "76c040c8-15cc-4d61-ae5d-bc7646a6a0be",
   "metadata": {},
   "outputs": [],
   "source": [
    "session_key=(session.Session&'subject=\"subject5\"').fetch1('KEY')\n",
    "mylab_key = (lab.Lab & 'lab=\"LabA\"').fetch1('KEY')\n",
    "myproj_key= (lab.Project & 'project=\"ProjA\"').fetch1('KEY')\n",
    "myprot_key= (lab.Protocol() & 'protocol=\"ProtA\"').fetch1('KEY')"
   ]
  },
  {
   "cell_type": "markdown",
   "id": "902e050c-3133-4fb7-850d-f0b954e1b634",
   "metadata": {},
   "source": [
    "Get export function and related pynwb dependency, then export with keys from prev step."
   ]
  },
  {
   "cell_type": "code",
   "execution_count": 4,
   "id": "61fdbdce-a808-49ad-bb5d-f9b9894446fa",
   "metadata": {},
   "outputs": [
    {
     "name": "stdout",
     "output_type": "stream",
     "text": [
      "Help on function session_to_nwb in module element_session.export.nwb:\n",
      "\n",
      "session_to_nwb(session_key)\n",
      "    Generate one NWBFile object representing all session-level information,\n",
      "      including session identifier, description, start time, etc.\n",
      "    \n",
      "    :param session_key: entry in session.Session table\n",
      "    :return: NWBFile object\n",
      "\n"
     ]
    }
   ],
   "source": [
    "from element_session.export import session_to_nwb_dict, session_to_nwb\n",
    "help(session_to_nwb)"
   ]
  },
  {
   "cell_type": "code",
   "execution_count": 5,
   "id": "e76fa25d-700b-4f9a-9bb4-62d2217288b6",
   "metadata": {},
   "outputs": [
    {
     "name": "stderr",
     "output_type": "stream",
     "text": [
      "/Users/cb/miniconda3/envs/venv-nwb/lib/python3.8/site-packages/pynwb/file.py:753: UserWarning: Date is missing timezone information. Updating to local timezone.\n",
      "  warn(\"Date is missing timezone information. Updating to local timezone.\")\n"
     ]
    }
   ],
   "source": [
    "mynwbfile=session_to_nwb(session_key)"
   ]
  },
  {
   "cell_type": "code",
   "execution_count": 6,
   "id": "56ebdd79-f0dc-4925-aeb1-109887df361d",
   "metadata": {},
   "outputs": [
    {
     "name": "stdout",
     "output_type": "stream",
     "text": [
      "Help on function elemlab_to_nwb_dict in module element_lab.export.nwb:\n",
      "\n",
      "elemlab_to_nwb_dict(lab_key=None, project_key=None, protocol_key=None)\n",
      "    Generate a dictionary object containing all relevant lab information used when\n",
      "        generating an NWB file at the session level. All parameters optional.\n",
      "    Use: mynwbfile = NWBfile(identifier=\"your identifier\",\n",
      "                             session_description=\"your description\",\n",
      "                             session_start_time=session_datetime,\n",
      "                             elemlab_to_nwb_dict(lab_key=key1,project_key=key2,protocol_key=key3))\n",
      "    Note: The lab, project and protocol keys should specify one of their respective types.\n",
      "    \n",
      "    :param lab_key: Key specifying one entry in element_lab.lab.Lab\n",
      "    :param project_key: Key specifying one entry in element_lab.lab.Project\n",
      "    :param protocol_key: Key specifying one entry in element_lab.lab.PRotocol\n",
      "    :return: dictionary with NWB parameters\n",
      "\n"
     ]
    }
   ],
   "source": [
    "from element_lab.export import elemlab_to_nwb_dict\n",
    "help(elemlab_to_nwb_dict)"
   ]
  },
  {
   "cell_type": "code",
   "execution_count": 7,
   "id": "afc6555d-cd25-4d55-93e2-51c72ddba9ae",
   "metadata": {},
   "outputs": [],
   "source": [
    "from pynwb import NWBFile\n",
    "lab_info = elemlab_to_nwb_dict(lab_key=mylab_key,project_key=myproj_key,protocol_key=myprot_key)\n",
    "sess_info = session_to_nwb_dict(session_key)"
   ]
  },
  {
   "cell_type": "code",
   "execution_count": 8,
   "id": "97e01cbf-b225-45d3-a030-0f7400e3526b",
   "metadata": {},
   "outputs": [
    {
     "name": "stderr",
     "output_type": "stream",
     "text": [
      "/Users/cb/miniconda3/envs/venv-nwb/lib/python3.8/site-packages/pynwb/file.py:753: UserWarning: Date is missing timezone information. Updating to local timezone.\n",
      "  warn(\"Date is missing timezone information. Updating to local timezone.\")\n"
     ]
    }
   ],
   "source": [
    "mynwbfile = NWBFile(**sess_info,**lab_info)"
   ]
  },
  {
   "cell_type": "markdown",
   "id": "1bccad09-d5e4-4200-bb73-08ddf98cfb80",
   "metadata": {},
   "source": [
    "Learn more about using NWB formats [here](https://www.nwb.org/how-to-use/)."
   ]
  },
  {
   "cell_type": "code",
   "execution_count": 9,
   "id": "b914d8db-2584-403c-9f24-12a64103f1cb",
   "metadata": {},
   "outputs": [
    {
     "name": "stderr",
     "output_type": "stream",
     "text": [
      "/Users/cb/miniconda3/envs/venv-nwb/lib/python3.8/site-packages/hdmf/build/objectmapper.py:653: MissingRequiredBuildWarning: NWBFile 'root' is missing required value for attribute 'source_script_file_name'.\n",
      "  warnings.warn(msg, MissingRequiredBuildWarning)\n"
     ]
    }
   ],
   "source": [
    "from pynwb import NWBHDF5IO\n",
    "with NWBHDF5IO('session_metadata.nwb', mode='w') as io:\n",
    "    io.write(mynwbfile)"
   ]
  },
  {
   "cell_type": "code",
   "execution_count": 10,
   "id": "c81b1c85-9623-4cc1-9438-79b0c5287756",
   "metadata": {},
   "outputs": [
    {
     "name": "stdout",
     "output_type": "stream",
     "text": [
      "root pynwb.file.NWBFile at 0x140190306285216\n",
      "Fields:\n",
      "  experiment_description: Example project to populate element-lab\n",
      "  file_create_date: [datetime.datetime(2021, 12, 6, 17, 1, 11, 974467, tzinfo=tzlocal())]\n",
      "  identifier: subject5_20200415_111638\n",
      "  institution: Example Uni\n",
      "  keywords: ['Example' 'Study']\n",
      "  lab: The Example Lab\n",
      "  pharmacology: Subjects were administered 10ul sedative prior to surgery\n",
      "  protocol: ProtA\n",
      "  related_publications: ['arXiv:1807.11104' 'arXiv:1807.11104v1']\n",
      "  session_description: Successful data collection, no notes\n",
      "  session_start_time: 2020-04-15 11:16:38-05:00\n",
      "  source_script: https://github.com/datajoint/element-lab/\n",
      "  surgery: Craniotomy performed by session experimenter\n",
      "  timestamps_reference_time: 2020-04-15 11:16:38-05:00\n",
      "\n"
     ]
    }
   ],
   "source": [
    "print(mynwbfile)"
   ]
  },
  {
   "cell_type": "code",
   "execution_count": null,
   "id": "e75c3795-96d6-4ed1-889e-3da58d9e8533",
   "metadata": {},
   "outputs": [],
   "source": []
  }
 ],
 "metadata": {
  "kernelspec": {
   "display_name": "venv-nwb",
   "language": "python",
   "name": "venv-nwb"
  },
  "language_info": {
   "codemirror_mode": {
    "name": "ipython",
    "version": 3
   },
   "file_extension": ".py",
   "mimetype": "text/x-python",
   "name": "python",
   "nbconvert_exporter": "python",
   "pygments_lexer": "ipython3",
   "version": "3.8.11"
  }
 },
 "nbformat": 4,
 "nbformat_minor": 5
}
