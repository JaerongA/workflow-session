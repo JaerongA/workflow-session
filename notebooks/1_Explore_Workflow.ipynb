{
 "cells": [
  {
   "cell_type": "markdown",
   "id": "d26010d6-acbc-4c90-8b62-a2448c50452d",
   "metadata": {},
   "source": [
    "# DataJoint U24 - Workflow Session"
   ]
  },
  {
   "cell_type": "markdown",
   "id": "c5ffe5d2-5b2a-45c3-8d8f-8c20efa8c5eb",
   "metadata": {},
   "source": [
    "This notebook will describe the steps to explore the lab and animal management tables created by the elements.\n",
    "Prior to using this notebook, please refer to the README for the installation instructions."
   ]
  },
  {
   "cell_type": "code",
   "execution_count": 2,
   "id": "4351c4bb-9763-4d4d-8558-37662adc930e",
   "metadata": {},
   "outputs": [
    {
     "name": "stdout",
     "output_type": "stream",
     "text": [
      "Connecting cbroz@dss-db.datajoint.io:3306\n"
     ]
    },
    {
     "data": {
      "text/plain": [
       "DataJoint connection (connected) cbroz@dss-db.datajoint.io:3306"
      ]
     },
     "execution_count": 2,
     "metadata": {},
     "output_type": "execute_result"
    }
   ],
   "source": [
    "# change to the upper level folder to detect dj_local_conf.json\n",
    "import os\n",
    "if os.path.basename(os.getcwd())=='notebooks': os.chdir('..')\n",
    "import datajoint as dj\n",
    "dj.conn()"
   ]
  },
  {
   "cell_type": "markdown",
   "id": "ee820754-bceb-476a-acf9-238fa8b201d9",
   "metadata": {},
   "source": [
    "Importing the module `workflow_session.pipeline` is sufficient to create tables inside the elements. This workflow comes prepackaged with example data and ingestion functions to populate lab, subject, and session tables."
   ]
  },
  {
   "cell_type": "code",
   "execution_count": 3,
   "id": "868b79bc-f754-4d51-a327-94a209cde374",
   "metadata": {},
   "outputs": [],
   "source": [
    "from element_lab import lab\n",
    "from element_animal import subject, genotyping\n",
    "from element_session import session\n",
    "from workflow_session.ingest import ingest_lab, ingest_subjects, ingest_sessions"
   ]
  },
  {
   "cell_type": "code",
   "execution_count": 3,
   "id": "9c211f0c-16fd-4d51-abf3-d67bbe271c26",
   "metadata": {},
   "outputs": [
    {
     "name": "stdout",
     "output_type": "stream",
     "text": [
      "\n",
      "---- Inserting 0 entry(s) into #lab ----\n",
      "\n",
      "---- Inserting 0 entry(s) into #location ----\n",
      "\n",
      "---- Inserting 0 entry(s) into #project ----\n",
      "\n",
      "---- Inserting 0 entry(s) into project_source_code ----\n",
      "\n",
      "---- Inserting 0 entry(s) into project_publication ----\n",
      "\n",
      "---- Inserting 0 entry(s) into project_keywords ----\n",
      "\n",
      "---- Inserting 0 entry(s) into #protocol_type ----\n",
      "\n",
      "---- Inserting 0 entry(s) into #protocol ----\n",
      "\n",
      "---- Inserting 0 entry(s) into #user_role ----\n",
      "\n",
      "---- Inserting 0 entry(s) into #user ----\n",
      "\n",
      "---- Inserting 0 entry(s) into #lab_membership ----\n",
      "\n",
      "---- Inserting 0 entry(s) into project_user ----\n",
      "\n",
      "---- Inserting 0 entry(s) into #source ----\n",
      "\n",
      "---- Inserting 0 entry(s) into subject ----\n",
      "\n",
      "---- Inserting 0 entry(s) into subject_death ----\n",
      "\n",
      "---- Inserting 0 entry(s) into subject_cull_method ----\n",
      "\n",
      "---- Inserting 0 entry(s) into subject__protocol ----\n",
      "\n",
      "---- Inserting 0 entry(s) into subject__user ----\n",
      "\n",
      "---- Inserting 0 entry(s) into subject__lab ----\n",
      "\n",
      "---- Inserting 0 entry(s) into #strain ----\n",
      "\n",
      "---- Inserting 0 entry(s) into #allele ----\n",
      "\n",
      "---- Inserting 0 entry(s) into #allele__source ----\n",
      "\n",
      "---- Inserting 0 entry(s) into #sequence ----\n",
      "\n",
      "---- Inserting 0 entry(s) into #allele_sequence ----\n",
      "\n",
      "---- Inserting 0 entry(s) into #line ----\n",
      "\n",
      "---- Inserting 0 entry(s) into #line__allele ----\n",
      "\n",
      "---- Inserting 0 entry(s) into subject__line ----\n",
      "\n",
      "---- Inserting 0 entry(s) into subject__strain ----\n",
      "\n",
      "---- Inserting 0 entry(s) into subject__source ----\n",
      "\n",
      "---- Inserting 0 entry(s) into zygosity ----\n",
      "\n",
      "---- Inserting 0 entry(s) into breeding_pair ----\n",
      "\n",
      "---- Inserting 0 entry(s) into breeding_pair__father ----\n",
      "\n",
      "---- Inserting 0 entry(s) into breeding_pair__mother ----\n",
      "\n",
      "---- Inserting 0 entry(s) into litter ----\n",
      "\n",
      "---- Inserting 0 entry(s) into weaning ----\n",
      "\n",
      "---- Inserting 0 entry(s) into subject_litter ----\n",
      "\n",
      "---- Inserting 0 entry(s) into #cage ----\n",
      "\n",
      "---- Inserting 0 entry(s) into subject_caging ----\n",
      "\n",
      "---- Inserting 2 entry(s) into genotype_test ----\n",
      "\n",
      "---- Inserting 0 entry(s) into session ----\n",
      "\n",
      "---- Inserting 0 entry(s) into session_directory ----\n",
      "\n",
      "---- Inserting 0 entry(s) into session_note ----\n",
      "\n",
      "---- Inserting 0 entry(s) into project_session ----\n",
      "\n",
      "---- Inserting 0 entry(s) into session_experimenter ----\n"
     ]
    }
   ],
   "source": [
    "ingest_lab(); ingest_subjects();ingest_sessions()"
   ]
  },
  {
   "cell_type": "markdown",
   "id": "2e19116d-bc32-4cea-9caf-f3e8eaa9b181",
   "metadata": {},
   "source": [
    "## Workflow architecture"
   ]
  },
  {
   "cell_type": "code",
   "execution_count": 6,
   "id": "1e7a0a8b-eaf1-41a1-bf08-1aff2f2812be",
   "metadata": {},
   "outputs": [
    {
     "data": {
      "text/html": [
       "\n",
       "    \n",
       "    <style type=\"text/css\">\n",
       "        .Relation{\n",
       "            border-collapse:collapse;\n",
       "        }\n",
       "        .Relation th{\n",
       "            background: #A0A0A0; color: #ffffff; padding:4px; border:#f0e0e0 1px solid;\n",
       "            font-weight: normal; font-family: monospace; font-size: 100%;\n",
       "        }\n",
       "        .Relation td{\n",
       "            padding:4px; border:#f0e0e0 1px solid; font-size:100%;\n",
       "        }\n",
       "        .Relation tr:nth-child(odd){\n",
       "            background: #ffffff;\n",
       "        }\n",
       "        .Relation tr:nth-child(even){\n",
       "            background: #f3f1ff;\n",
       "        }\n",
       "        /* Tooltip container */\n",
       "        .djtooltip {\n",
       "        }\n",
       "        /* Tooltip text */\n",
       "        .djtooltip .djtooltiptext {\n",
       "            visibility: hidden;\n",
       "            width: 120px;\n",
       "            background-color: black;\n",
       "            color: #fff;\n",
       "            text-align: center;\n",
       "            padding: 5px 0;\n",
       "            border-radius: 6px;\n",
       "            /* Position the tooltip text - see examples below! */\n",
       "            position: absolute;\n",
       "            z-index: 1;\n",
       "        }\n",
       "        #primary {\n",
       "            font-weight: bold;\n",
       "            color: black;\n",
       "        }\n",
       "        #nonprimary {\n",
       "            font-weight: normal;\n",
       "            color: white;\n",
       "        }\n",
       "\n",
       "        /* Show the tooltip text when you mouse over the tooltip container */\n",
       "        .djtooltip:hover .djtooltiptext {\n",
       "            visibility: visible;\n",
       "        }\n",
       "    </style>\n",
       "    \n",
       "    <b></b>\n",
       "        <div style=\"max-height:1000px;max-width:1500px;overflow:auto;\">\n",
       "        <table border=\"1\" class=\"Relation\">\n",
       "            <thead> <tr style=\"text-align: right;\"> <th> <div class=\"djtooltip\">\n",
       "                            <p id=\"primary\">lab</p>\n",
       "                            <span class=\"djtooltiptext\">Abbreviated lab name</span>\n",
       "                        </div></th><th><div class=\"djtooltip\">\n",
       "                            <p id=\"nonprimary\">lab_name</p>\n",
       "                            <span class=\"djtooltiptext\">full lab name</span>\n",
       "                        </div></th><th><div class=\"djtooltip\">\n",
       "                            <p id=\"nonprimary\">institution</p>\n",
       "                            <span class=\"djtooltiptext\"></span>\n",
       "                        </div></th><th><div class=\"djtooltip\">\n",
       "                            <p id=\"nonprimary\">address</p>\n",
       "                            <span class=\"djtooltiptext\"></span>\n",
       "                        </div></th><th><div class=\"djtooltip\">\n",
       "                            <p id=\"nonprimary\">time_zone</p>\n",
       "                            <span class=\"djtooltiptext\"></span>\n",
       "                        </div> </th> </tr> </thead>\n",
       "            <tbody> <tr> <td>LabA</td>\n",
       "<td>The Example Lab</td>\n",
       "<td>Example Uni</td>\n",
       "<td>'221B Baker St</td>\n",
       "<td>London NW1 6XE</td></tr><tr><td>LabB</td>\n",
       "<td>The Other Lab</td>\n",
       "<td>Other Uni</td>\n",
       "<td>'Oxford OX1 2JD</td>\n",
       "<td> United Kingdom'</td> </tr> </tbody>\n",
       "        </table>\n",
       "        \n",
       "        <p>Total: 2</p></div>\n",
       "        "
      ],
      "text/plain": [
       "*lab     lab_name       institution    address        time_zone     \n",
       "+------+ +------------+ +------------+ +------------+ +------------+\n",
       "LabA     The Example La Example Uni    '221B Baker St London NW1 6XE\n",
       "LabB     The Other Lab  Other Uni      'Oxford OX1 2J  United Kingdo\n",
       " (Total: 2)"
      ]
     },
     "execution_count": 6,
     "metadata": {},
     "output_type": "execute_result"
    }
   ],
   "source": [
    "lab.Lab()"
   ]
  },
  {
   "cell_type": "code",
   "execution_count": 7,
   "id": "63679df4-3064-402b-99ce-2f553dff877b",
   "metadata": {},
   "outputs": [
    {
     "data": {
      "image/svg+xml": "<svg xmlns=\"http://www.w3.org/2000/svg\" xmlns:xlink=\"http://www.w3.org/1999/xlink\" width=\"889pt\" height=\"114pt\" viewBox=\"0.00 0.00 889.00 114.00\">\n<g id=\"graph0\" class=\"graph\" transform=\"scale(1 1) rotate(0) translate(4 110)\">\n<polygon fill=\"white\" stroke=\"transparent\" points=\"-4,4 -4,-110 885,-110 885,4 -4,4\"/>\n<!-- lab.UserRole -->\n<g id=\"node1\" class=\"node\">\n<title>lab.UserRole</title>\n<g id=\"a_node1\"><a xlink:title=\"user_role            \r\n\">\n<polygon fill=\"#000000\" fill-opacity=\"0.125490\" stroke=\"transparent\" points=\"174.5,-106 100.5,-106 100.5,-71 174.5,-71 174.5,-106\"/>\n<text text-anchor=\"start\" x=\"108.5\" y=\"-87\" font-family=\"arial\" text-decoration=\"underline\" font-size=\"10.00\">lab.UserRole</text>\n</a>\n</g>\n</g>\n<!-- lab.LabMembership -->\n<g id=\"node5\" class=\"node\">\n<title>lab.LabMembership</title>\n<g id=\"a_node5\"><a xlink:title=\"→ lab.Lab\r\n→ lab.User\r\n------------------------------\r\n→ [nullable] lab.UserRole\r\n\">\n<polygon fill=\"#000000\" fill-opacity=\"0.125490\" stroke=\"transparent\" points=\"188,-35 87,-35 87,0 188,0 188,-35\"/>\n<text text-anchor=\"middle\" x=\"137.5\" y=\"-15\" font-family=\"arial\" font-size=\"10.00\">lab.LabMembership</text>\n</a>\n</g>\n</g>\n<!-- lab.UserRole&#45;&gt;lab.LabMembership -->\n<g id=\"edge1\" class=\"edge\">\n<title>lab.UserRole-&gt;lab.LabMembership</title>\n<path fill=\"none\" stroke=\"#000000\" stroke-width=\"0.75\" stroke-dasharray=\"5,2\" stroke-opacity=\"0.250980\" d=\"M137.5,-70.8C137.5,-59.95 137.5,-45.87 137.5,-35.05\"/>\n</g>\n<!-- lab.Project.Keywords -->\n<g id=\"node2\" class=\"node\">\n<title>lab.Project.Keywords</title>\n<g id=\"a_node2\"><a xlink:title=\"→ lab.Project\r\nkeyword              \r\n\">\n<polygon fill=\"transparent\" stroke=\"transparent\" points=\"433.5,-27 323.5,-27 323.5,-8 433.5,-8 433.5,-27\"/>\n<text text-anchor=\"start\" x=\"331.5\" y=\"-16\" font-family=\"arial\" text-decoration=\"underline\" font-size=\"10.00\">lab.Project.Keywords</text>\n</a>\n</g>\n</g>\n<!-- lab.Project -->\n<g id=\"node3\" class=\"node\">\n<title>lab.Project</title>\n<g id=\"a_node3\"><a xlink:title=\"project              \r\n------------------------------\r\nproject_description=&quot;&quot; \r\n\">\n<polygon fill=\"#000000\" fill-opacity=\"0.125490\" stroke=\"transparent\" points=\"540,-106 477,-106 477,-71 540,-71 540,-106\"/>\n<text text-anchor=\"start\" x=\"485\" y=\"-87\" font-family=\"arial\" text-decoration=\"underline\" font-size=\"10.00\">lab.Project</text>\n</a>\n</g>\n</g>\n<!-- lab.Project&#45;&gt;lab.Project.Keywords -->\n<g id=\"edge2\" class=\"edge\">\n<title>lab.Project-&gt;lab.Project.Keywords</title>\n<path fill=\"none\" stroke=\"#000000\" stroke-width=\"0.75\" stroke-opacity=\"0.250980\" d=\"M477.36,-70.97C451.37,-57.18 415.36,-38.06 394.74,-27.12\"/>\n</g>\n<!-- lab.ProjectUser -->\n<g id=\"node4\" class=\"node\">\n<title>lab.ProjectUser</title>\n<g id=\"a_node4\"><a xlink:title=\"→ lab.Project\r\n→ lab.User\r\n\">\n<polygon fill=\"#00ff00\" fill-opacity=\"0.188235\" stroke=\"#00ff00\" stroke-opacity=\"0.188235\" points=\"305,-35 206,-35 206,0 305,0 305,-35\"/>\n<text text-anchor=\"middle\" x=\"255.5\" y=\"-14.4\" font-family=\"arial\" font-size=\"12.00\" fill=\"darkgreen\">lab.ProjectUser</text>\n</a>\n</g>\n</g>\n<!-- lab.Project&#45;&gt;lab.ProjectUser -->\n<g id=\"edge3\" class=\"edge\">\n<title>lab.Project-&gt;lab.ProjectUser</title>\n<path fill=\"none\" stroke=\"#000000\" stroke-width=\"0.75\" stroke-opacity=\"0.250980\" d=\"M476.89,-79.03C438.48,-68.72 371.69,-50.74 314.5,-35 311.42,-34.15 308.26,-33.28 305.07,-32.39\"/>\n</g>\n<!-- lab.Project.Publication -->\n<g id=\"node10\" class=\"node\">\n<title>lab.Project.Publication</title>\n<g id=\"a_node10\"><a xlink:title=\"→ lab.Project\r\npublication          \r\n\">\n<polygon fill=\"transparent\" stroke=\"transparent\" points=\"565.5,-27 451.5,-27 451.5,-8 565.5,-8 565.5,-27\"/>\n<text text-anchor=\"start\" x=\"459.5\" y=\"-16\" font-family=\"arial\" text-decoration=\"underline\" font-size=\"10.00\">lab.Project.Publication</text>\n</a>\n</g>\n</g>\n<!-- lab.Project&#45;&gt;lab.Project.Publication -->\n<g id=\"edge4\" class=\"edge\">\n<title>lab.Project-&gt;lab.Project.Publication</title>\n<path fill=\"none\" stroke=\"#000000\" stroke-width=\"0.75\" stroke-opacity=\"0.250980\" d=\"M508.5,-70.8C508.5,-57.08 508.5,-38.19 508.5,-27.27\"/>\n</g>\n<!-- lab.Project.SourceCode -->\n<g id=\"node11\" class=\"node\">\n<title>lab.Project.SourceCode</title>\n<g id=\"a_node11\"><a xlink:title=\"→ lab.Project\r\nrepository_url       \r\n------------------------------\r\nrepository_name=&quot;&quot;   \r\n\">\n<polygon fill=\"transparent\" stroke=\"transparent\" points=\"703.5,-27 583.5,-27 583.5,-8 703.5,-8 703.5,-27\"/>\n<text text-anchor=\"start\" x=\"591.5\" y=\"-16\" font-family=\"arial\" text-decoration=\"underline\" font-size=\"10.00\">lab.Project.SourceCode</text>\n</a>\n</g>\n</g>\n<!-- lab.Project&#45;&gt;lab.Project.SourceCode -->\n<g id=\"edge5\" class=\"edge\">\n<title>lab.Project-&gt;lab.Project.SourceCode</title>\n<path fill=\"none\" stroke=\"#000000\" stroke-width=\"0.75\" stroke-opacity=\"0.250980\" d=\"M540.15,-71.32C567.27,-57.46 605.27,-38.04 626.83,-27.02\"/>\n</g>\n<!-- lab.Location -->\n<g id=\"node6\" class=\"node\">\n<title>lab.Location</title>\n<g id=\"a_node6\"><a xlink:title=\"→ lab.Lab\r\nlocation             \r\n------------------------------\r\nlocation_description=&quot;&quot; \r\n\">\n<polygon fill=\"#000000\" fill-opacity=\"0.125490\" stroke=\"transparent\" points=\"69,-35 0,-35 0,0 69,0 69,-35\"/>\n<text text-anchor=\"start\" x=\"8\" y=\"-16\" font-family=\"arial\" text-decoration=\"underline\" font-size=\"10.00\">lab.Location</text>\n</a>\n</g>\n</g>\n<!-- lab.Protocol -->\n<g id=\"node7\" class=\"node\">\n<title>lab.Protocol</title>\n<g id=\"a_node7\"><a xlink:title=\"protocol             \r\n------------------------------\r\n→ lab.ProtocolType\r\nprotocol_description=&quot;&quot; \r\n\">\n<polygon fill=\"#000000\" fill-opacity=\"0.125490\" stroke=\"transparent\" points=\"789.5,-35 721.5,-35 721.5,0 789.5,0 789.5,-35\"/>\n<text text-anchor=\"start\" x=\"729.5\" y=\"-16\" font-family=\"arial\" text-decoration=\"underline\" font-size=\"10.00\">lab.Protocol</text>\n</a>\n</g>\n</g>\n<!-- lab.Source -->\n<g id=\"node8\" class=\"node\">\n<title>lab.Source</title>\n<g id=\"a_node8\"><a xlink:title=\"source               \r\n------------------------------\r\nsource_name          \r\ncontact_details=&quot;&quot;   \r\nsource_description=&quot;&quot; \r\n\">\n<polygon fill=\"#000000\" fill-opacity=\"0.125490\" stroke=\"transparent\" points=\"881,-106 818,-106 818,-71 881,-71 881,-106\"/>\n<text text-anchor=\"start\" x=\"826\" y=\"-87\" font-family=\"arial\" text-decoration=\"underline\" font-size=\"10.00\">lab.Source</text>\n</a>\n</g>\n</g>\n<!-- lab.User -->\n<g id=\"node9\" class=\"node\">\n<title>lab.User</title>\n<g id=\"a_node9\"><a xlink:title=\"user                 \r\n------------------------------\r\nuser_email=&quot;&quot;        \r\nuser_cellphone=&quot;&quot;    \r\n\">\n<polygon fill=\"#000000\" fill-opacity=\"0.125490\" stroke=\"transparent\" points=\"264,-106 211,-106 211,-71 264,-71 264,-106\"/>\n<text text-anchor=\"start\" x=\"219\" y=\"-87\" font-family=\"arial\" text-decoration=\"underline\" font-size=\"10.00\">lab.User</text>\n</a>\n</g>\n</g>\n<!-- lab.User&#45;&gt;lab.ProjectUser -->\n<g id=\"edge6\" class=\"edge\">\n<title>lab.User-&gt;lab.ProjectUser</title>\n<path fill=\"none\" stroke=\"#000000\" stroke-width=\"0.75\" stroke-opacity=\"0.250980\" d=\"M241.86,-70.8C244.69,-59.95 248.36,-45.87 251.18,-35.05\"/>\n</g>\n<!-- lab.User&#45;&gt;lab.LabMembership -->\n<g id=\"edge7\" class=\"edge\">\n<title>lab.User-&gt;lab.LabMembership</title>\n<path fill=\"none\" stroke=\"#000000\" stroke-width=\"0.75\" stroke-opacity=\"0.250980\" d=\"M213.55,-70.97C197.83,-60.13 177.35,-46 161.6,-35.13\"/>\n</g>\n<!-- lab.Lab -->\n<g id=\"node12\" class=\"node\">\n<title>lab.Lab</title>\n<g id=\"a_node12\"><a xlink:title=\"lab                  \r\n------------------------------\r\nlab_name             \r\ninstitution          \r\naddress              \r\ntime_zone            \r\n\">\n<polygon fill=\"#000000\" fill-opacity=\"0.125490\" stroke=\"transparent\" points=\"70.5,-106 22.5,-106 22.5,-71 70.5,-71 70.5,-106\"/>\n<text text-anchor=\"start\" x=\"30.5\" y=\"-87\" font-family=\"arial\" text-decoration=\"underline\" font-size=\"10.00\">lab.Lab</text>\n</a>\n</g>\n</g>\n<!-- lab.Lab&#45;&gt;lab.LabMembership -->\n<g id=\"edge8\" class=\"edge\">\n<title>lab.Lab-&gt;lab.LabMembership</title>\n<path fill=\"none\" stroke=\"#000000\" stroke-width=\"0.75\" stroke-opacity=\"0.250980\" d=\"M68.53,-70.8C82.84,-59.95 101.41,-45.87 115.67,-35.05\"/>\n</g>\n<!-- lab.Lab&#45;&gt;lab.Location -->\n<g id=\"edge9\" class=\"edge\">\n<title>lab.Lab-&gt;lab.Location</title>\n<path fill=\"none\" stroke=\"#000000\" stroke-width=\"0.75\" stroke-opacity=\"0.250980\" d=\"M43.6,-70.8C41.71,-59.95 39.26,-45.87 37.38,-35.05\"/>\n</g>\n<!-- lab.ProtocolType -->\n<g id=\"node13\" class=\"node\">\n<title>lab.ProtocolType</title>\n<g id=\"a_node13\"><a xlink:title=\"protocol_type        \r\n\">\n<polygon fill=\"#000000\" fill-opacity=\"0.125490\" stroke=\"transparent\" points=\"800,-106 711,-106 711,-71 800,-71 800,-106\"/>\n<text text-anchor=\"start\" x=\"719\" y=\"-87\" font-family=\"arial\" text-decoration=\"underline\" font-size=\"10.00\">lab.ProtocolType</text>\n</a>\n</g>\n</g>\n<!-- lab.ProtocolType&#45;&gt;lab.Protocol -->\n<g id=\"edge10\" class=\"edge\">\n<title>lab.ProtocolType-&gt;lab.Protocol</title>\n<path fill=\"none\" stroke=\"#000000\" stroke-width=\"0.75\" stroke-dasharray=\"5,2\" stroke-opacity=\"0.250980\" d=\"M755.5,-70.8C755.5,-59.95 755.5,-45.87 755.5,-35.05\"/>\n</g>\n</g>\n</svg>",
      "text/plain": [
       "<datajoint.diagram.Diagram at 0x7fe23f88aa60>"
      ]
     },
     "execution_count": 7,
     "metadata": {},
     "output_type": "execute_result"
    }
   ],
   "source": [
    "dj.Diagram(lab)"
   ]
  },
  {
   "cell_type": "code",
   "execution_count": 4,
   "id": "3195e995",
   "metadata": {},
   "outputs": [
    {
     "data": {
      "text/html": [
       "\n",
       "    \n",
       "    <style type=\"text/css\">\n",
       "        .Relation{\n",
       "            border-collapse:collapse;\n",
       "        }\n",
       "        .Relation th{\n",
       "            background: #A0A0A0; color: #ffffff; padding:4px; border:#f0e0e0 1px solid;\n",
       "            font-weight: normal; font-family: monospace; font-size: 100%;\n",
       "        }\n",
       "        .Relation td{\n",
       "            padding:4px; border:#f0e0e0 1px solid; font-size:100%;\n",
       "        }\n",
       "        .Relation tr:nth-child(odd){\n",
       "            background: #ffffff;\n",
       "        }\n",
       "        .Relation tr:nth-child(even){\n",
       "            background: #f3f1ff;\n",
       "        }\n",
       "        /* Tooltip container */\n",
       "        .djtooltip {\n",
       "        }\n",
       "        /* Tooltip text */\n",
       "        .djtooltip .djtooltiptext {\n",
       "            visibility: hidden;\n",
       "            width: 120px;\n",
       "            background-color: black;\n",
       "            color: #fff;\n",
       "            text-align: center;\n",
       "            padding: 5px 0;\n",
       "            border-radius: 6px;\n",
       "            /* Position the tooltip text - see examples below! */\n",
       "            position: absolute;\n",
       "            z-index: 1;\n",
       "        }\n",
       "        #primary {\n",
       "            font-weight: bold;\n",
       "            color: black;\n",
       "        }\n",
       "        #nonprimary {\n",
       "            font-weight: normal;\n",
       "            color: white;\n",
       "        }\n",
       "\n",
       "        /* Show the tooltip text when you mouse over the tooltip container */\n",
       "        .djtooltip:hover .djtooltiptext {\n",
       "            visibility: visible;\n",
       "        }\n",
       "    </style>\n",
       "    \n",
       "    <b>source or supplier of animals</b>\n",
       "        <div style=\"max-height:1000px;max-width:1500px;overflow:auto;\">\n",
       "        <table border=\"1\" class=\"Relation\">\n",
       "            <thead> <tr style=\"text-align: right;\"> <th> <div class=\"djtooltip\">\n",
       "                            <p id=\"primary\">source</p>\n",
       "                            <span class=\"djtooltiptext\">abbreviated source name</span>\n",
       "                        </div></th><th><div class=\"djtooltip\">\n",
       "                            <p id=\"nonprimary\">source_name</p>\n",
       "                            <span class=\"djtooltiptext\"></span>\n",
       "                        </div></th><th><div class=\"djtooltip\">\n",
       "                            <p id=\"nonprimary\">contact_details</p>\n",
       "                            <span class=\"djtooltiptext\"></span>\n",
       "                        </div></th><th><div class=\"djtooltip\">\n",
       "                            <p id=\"nonprimary\">source_description</p>\n",
       "                            <span class=\"djtooltiptext\"></span>\n",
       "                        </div> </th> </tr> </thead>\n",
       "            <tbody> <tr> <td>Provider1</td>\n",
       "<td>Example Provider</td>\n",
       "<td>+44 1632 960663 / Example@Provider.com</td>\n",
       "<td>UK-based supplier of lab subjects mus musculus</td> </tr> </tbody>\n",
       "        </table>\n",
       "        \n",
       "        <p>Total: 1</p></div>\n",
       "        "
      ],
      "text/plain": [
       "*source       source_name    contact_detail source_descrip\n",
       "+-----------+ +------------+ +------------+ +------------+\n",
       "Provider1     Example Provid +44 1632 96066 UK-based suppl\n",
       " (Total: 1)"
      ]
     },
     "execution_count": 4,
     "metadata": {},
     "output_type": "execute_result"
    }
   ],
   "source": [
    "lab.Source()"
   ]
  },
  {
   "cell_type": "code",
   "execution_count": 8,
   "id": "8cf0f64b-e523-4a94-9a43-fca4ed793f82",
   "metadata": {},
   "outputs": [
    {
     "data": {
      "text/html": [
       "\n",
       "    \n",
       "    <style type=\"text/css\">\n",
       "        .Relation{\n",
       "            border-collapse:collapse;\n",
       "        }\n",
       "        .Relation th{\n",
       "            background: #A0A0A0; color: #ffffff; padding:4px; border:#f0e0e0 1px solid;\n",
       "            font-weight: normal; font-family: monospace; font-size: 100%;\n",
       "        }\n",
       "        .Relation td{\n",
       "            padding:4px; border:#f0e0e0 1px solid; font-size:100%;\n",
       "        }\n",
       "        .Relation tr:nth-child(odd){\n",
       "            background: #ffffff;\n",
       "        }\n",
       "        .Relation tr:nth-child(even){\n",
       "            background: #f3f1ff;\n",
       "        }\n",
       "        /* Tooltip container */\n",
       "        .djtooltip {\n",
       "        }\n",
       "        /* Tooltip text */\n",
       "        .djtooltip .djtooltiptext {\n",
       "            visibility: hidden;\n",
       "            width: 120px;\n",
       "            background-color: black;\n",
       "            color: #fff;\n",
       "            text-align: center;\n",
       "            padding: 5px 0;\n",
       "            border-radius: 6px;\n",
       "            /* Position the tooltip text - see examples below! */\n",
       "            position: absolute;\n",
       "            z-index: 1;\n",
       "        }\n",
       "        #primary {\n",
       "            font-weight: bold;\n",
       "            color: black;\n",
       "        }\n",
       "        #nonprimary {\n",
       "            font-weight: normal;\n",
       "            color: white;\n",
       "        }\n",
       "\n",
       "        /* Show the tooltip text when you mouse over the tooltip container */\n",
       "        .djtooltip:hover .djtooltiptext {\n",
       "            visibility: visible;\n",
       "        }\n",
       "    </style>\n",
       "    \n",
       "    <b>Animal Subject</b>\n",
       "        <div style=\"max-height:1000px;max-width:1500px;overflow:auto;\">\n",
       "        <table border=\"1\" class=\"Relation\">\n",
       "            <thead> <tr style=\"text-align: right;\"> <th> <div class=\"djtooltip\">\n",
       "                            <p id=\"primary\">subject</p>\n",
       "                            <span class=\"djtooltiptext\"></span>\n",
       "                        </div></th><th><div class=\"djtooltip\">\n",
       "                            <p id=\"nonprimary\">sex</p>\n",
       "                            <span class=\"djtooltiptext\"></span>\n",
       "                        </div></th><th><div class=\"djtooltip\">\n",
       "                            <p id=\"nonprimary\">subject_birth_date</p>\n",
       "                            <span class=\"djtooltiptext\"></span>\n",
       "                        </div></th><th><div class=\"djtooltip\">\n",
       "                            <p id=\"nonprimary\">subject_description</p>\n",
       "                            <span class=\"djtooltiptext\"></span>\n",
       "                        </div> </th> </tr> </thead>\n",
       "            <tbody> <tr> <td>subject5</td>\n",
       "<td>F</td>\n",
       "<td>2020-01-01</td>\n",
       "<td>rich</td></tr><tr><td>subject6</td>\n",
       "<td>M</td>\n",
       "<td>2020-01-01</td>\n",
       "<td>manuel</td> </tr> </tbody>\n",
       "        </table>\n",
       "        \n",
       "        <p>Total: 2</p></div>\n",
       "        "
      ],
      "text/plain": [
       "*subject     sex     subject_birth_ subject_descri\n",
       "+----------+ +-----+ +------------+ +------------+\n",
       "subject5     F       2020-01-01     rich          \n",
       "subject6     M       2020-01-01     manuel        \n",
       " (Total: 2)"
      ]
     },
     "execution_count": 8,
     "metadata": {},
     "output_type": "execute_result"
    }
   ],
   "source": [
    "subject.Subject()"
   ]
  },
  {
   "cell_type": "code",
   "execution_count": 5,
   "id": "76b6abd9",
   "metadata": {},
   "outputs": [
    {
     "data": {
      "text/html": [
       "\n",
       "    \n",
       "    <style type=\"text/css\">\n",
       "        .Relation{\n",
       "            border-collapse:collapse;\n",
       "        }\n",
       "        .Relation th{\n",
       "            background: #A0A0A0; color: #ffffff; padding:4px; border:#f0e0e0 1px solid;\n",
       "            font-weight: normal; font-family: monospace; font-size: 100%;\n",
       "        }\n",
       "        .Relation td{\n",
       "            padding:4px; border:#f0e0e0 1px solid; font-size:100%;\n",
       "        }\n",
       "        .Relation tr:nth-child(odd){\n",
       "            background: #ffffff;\n",
       "        }\n",
       "        .Relation tr:nth-child(even){\n",
       "            background: #f3f1ff;\n",
       "        }\n",
       "        /* Tooltip container */\n",
       "        .djtooltip {\n",
       "        }\n",
       "        /* Tooltip text */\n",
       "        .djtooltip .djtooltiptext {\n",
       "            visibility: hidden;\n",
       "            width: 120px;\n",
       "            background-color: black;\n",
       "            color: #fff;\n",
       "            text-align: center;\n",
       "            padding: 5px 0;\n",
       "            border-radius: 6px;\n",
       "            /* Position the tooltip text - see examples below! */\n",
       "            position: absolute;\n",
       "            z-index: 1;\n",
       "        }\n",
       "        #primary {\n",
       "            font-weight: bold;\n",
       "            color: black;\n",
       "        }\n",
       "        #nonprimary {\n",
       "            font-weight: normal;\n",
       "            color: white;\n",
       "        }\n",
       "\n",
       "        /* Show the tooltip text when you mouse over the tooltip container */\n",
       "        .djtooltip:hover .djtooltiptext {\n",
       "            visibility: visible;\n",
       "        }\n",
       "    </style>\n",
       "    \n",
       "    <b></b>\n",
       "        <div style=\"max-height:1000px;max-width:1500px;overflow:auto;\">\n",
       "        <table border=\"1\" class=\"Relation\">\n",
       "            <thead> <tr style=\"text-align: right;\"> <th> <div class=\"djtooltip\">\n",
       "                            <p id=\"primary\">subject</p>\n",
       "                            <span class=\"djtooltiptext\"></span>\n",
       "                        </div></th><th><div class=\"djtooltip\">\n",
       "                            <p id=\"nonprimary\">source</p>\n",
       "                            <span class=\"djtooltiptext\">abbreviated source name</span>\n",
       "                        </div> </th> </tr> </thead>\n",
       "            <tbody> <tr> <td>subject5</td>\n",
       "<td>Provider1</td></tr><tr><td>subject6</td>\n",
       "<td>Provider1</td> </tr> </tbody>\n",
       "        </table>\n",
       "        \n",
       "        <p>Total: 2</p></div>\n",
       "        "
      ],
      "text/plain": [
       "*subject     source       \n",
       "+----------+ +-----------+\n",
       "subject5     Provider1    \n",
       "subject6     Provider1    \n",
       " (Total: 2)"
      ]
     },
     "execution_count": 5,
     "metadata": {},
     "output_type": "execute_result"
    }
   ],
   "source": [
    "subject.Subject.Source()"
   ]
  },
  {
   "cell_type": "code",
   "execution_count": 9,
   "id": "75576be2-2984-451f-a86b-f05f9ddec6b7",
   "metadata": {},
   "outputs": [
    {
     "data": {
      "image/svg+xml": "<svg xmlns=\"http://www.w3.org/2000/svg\" xmlns:xlink=\"http://www.w3.org/1999/xlink\" width=\"1461pt\" height=\"114pt\" viewBox=\"0.00 0.00 1461.00 114.00\">\n<g id=\"graph0\" class=\"graph\" transform=\"scale(1 1) rotate(0) translate(4 110)\">\n<polygon fill=\"white\" stroke=\"transparent\" points=\"-4,4 -4,-110 1457,-110 1457,4 -4,4\"/>\n<!-- subject.Subject.Strain -->\n<g id=\"node1\" class=\"node\">\n<title>subject.Subject.Strain</title>\n<g id=\"a_node1\"><a xlink:title=\"→ subject.Subject\r\n------------------------------\r\n→ subject.Strain\r\n\">\n<polygon fill=\"transparent\" stroke=\"transparent\" points=\"113,-27 0,-27 0,-8 113,-8 113,-27\"/>\n<text text-anchor=\"middle\" x=\"56.5\" y=\"-15\" font-family=\"arial\" font-size=\"10.00\">subject.Subject.Strain</text>\n</a>\n</g>\n</g>\n<!-- subject.Strain -->\n<g id=\"node2\" class=\"node\">\n<title>subject.Strain</title>\n<g id=\"a_node2\"><a xlink:title=\"strain               \r\n------------------------------\r\nstrain_standard_name \r\nstrain_desc=&quot;&quot;       \r\n\">\n<polygon fill=\"#000000\" fill-opacity=\"0.125490\" stroke=\"transparent\" points=\"95,-106 18,-106 18,-71 95,-71 95,-106\"/>\n<text text-anchor=\"start\" x=\"26\" y=\"-87\" font-family=\"arial\" text-decoration=\"underline\" font-size=\"10.00\">subject.Strain</text>\n</a>\n</g>\n</g>\n<!-- subject.Strain&#45;&gt;subject.Subject.Strain -->\n<g id=\"edge1\" class=\"edge\">\n<title>subject.Strain-&gt;subject.Subject.Strain</title>\n<path fill=\"none\" stroke=\"#000000\" stroke-width=\"0.75\" stroke-dasharray=\"5,2\" stroke-opacity=\"0.250980\" d=\"M56.5,-70.8C56.5,-57.08 56.5,-38.19 56.5,-27.27\"/>\n</g>\n<!-- subject.Subject.Protocol -->\n<g id=\"node3\" class=\"node\">\n<title>subject.Subject.Protocol</title>\n<g id=\"a_node3\"><a xlink:title=\"→ subject.Subject\r\n→ lab.Protocol\r\n\">\n<polygon fill=\"transparent\" stroke=\"transparent\" points=\"709,-27 586,-27 586,-8 709,-8 709,-27\"/>\n<text text-anchor=\"middle\" x=\"647.5\" y=\"-15\" font-family=\"arial\" font-size=\"10.00\">subject.Subject.Protocol</text>\n</a>\n</g>\n</g>\n<!-- subject.Subject.Line -->\n<g id=\"node4\" class=\"node\">\n<title>subject.Subject.Line</title>\n<g id=\"a_node4\"><a xlink:title=\"→ subject.Subject\r\n------------------------------\r\n→ subject.Line\r\n\">\n<polygon fill=\"transparent\" stroke=\"transparent\" points=\"1090,-27 985,-27 985,-8 1090,-8 1090,-27\"/>\n<text text-anchor=\"middle\" x=\"1037.5\" y=\"-15\" font-family=\"arial\" font-size=\"10.00\">subject.Subject.Line</text>\n</a>\n</g>\n</g>\n<!-- subject.Line.Allele -->\n<g id=\"node5\" class=\"node\">\n<title>subject.Line.Allele</title>\n<g id=\"a_node5\"><a xlink:title=\"→ subject.Line\r\n→ subject.Allele\r\n\">\n<polygon fill=\"transparent\" stroke=\"transparent\" points=\"1325.5,-27 1229.5,-27 1229.5,-8 1325.5,-8 1325.5,-27\"/>\n<text text-anchor=\"middle\" x=\"1277.5\" y=\"-15\" font-family=\"arial\" font-size=\"10.00\">subject.Line.Allele</text>\n</a>\n</g>\n</g>\n<!-- subject.Allele -->\n<g id=\"node6\" class=\"node\">\n<title>subject.Allele</title>\n<g id=\"a_node6\"><a xlink:title=\"allele               \r\n------------------------------\r\nallele_standard_name=&quot;&quot; \r\n\">\n<polygon fill=\"#000000\" fill-opacity=\"0.125490\" stroke=\"transparent\" points=\"1436,-106 1361,-106 1361,-71 1436,-71 1436,-106\"/>\n<text text-anchor=\"start\" x=\"1369\" y=\"-87\" font-family=\"arial\" text-decoration=\"underline\" font-size=\"10.00\">subject.Allele</text>\n</a>\n</g>\n</g>\n<!-- subject.Allele&#45;&gt;subject.Line.Allele -->\n<g id=\"edge2\" class=\"edge\">\n<title>subject.Allele-&gt;subject.Line.Allele</title>\n<path fill=\"none\" stroke=\"#000000\" stroke-width=\"0.75\" stroke-opacity=\"0.250980\" d=\"M1369.52,-70.97C1345.33,-57.18 1311.81,-38.06 1292.62,-27.12\"/>\n</g>\n<!-- subject.Allele.Source -->\n<g id=\"node14\" class=\"node\">\n<title>subject.Allele.Source</title>\n<g id=\"a_node14\"><a xlink:title=\"→ subject.Allele\r\n------------------------------\r\n→ lab.Source\r\nsource_identifier=&quot;&quot; \r\nsource_url=&quot;&quot;        \r\nexpression_data_url=&quot;&quot; \r\n\">\n<polygon fill=\"transparent\" stroke=\"transparent\" points=\"1453,-27 1344,-27 1344,-8 1453,-8 1453,-27\"/>\n<text text-anchor=\"middle\" x=\"1398.5\" y=\"-15\" font-family=\"arial\" font-size=\"10.00\">subject.Allele.Source</text>\n</a>\n</g>\n</g>\n<!-- subject.Allele&#45;&gt;subject.Allele.Source -->\n<g id=\"edge3\" class=\"edge\">\n<title>subject.Allele-&gt;subject.Allele.Source</title>\n<path fill=\"none\" stroke=\"#000000\" stroke-width=\"2\" stroke-opacity=\"0.250980\" d=\"M1398.5,-70.8C1398.5,-57.08 1398.5,-38.19 1398.5,-27.27\"/>\n</g>\n<!-- subject.Zygosity -->\n<g id=\"node15\" class=\"node\">\n<title>subject.Zygosity</title>\n<g id=\"a_node15\"><a xlink:title=\"→ subject.Subject\r\n→ subject.Allele\r\n------------------------------\r\nzygosity             \r\n\">\n<polygon fill=\"#00ff00\" fill-opacity=\"0.188235\" stroke=\"#00ff00\" stroke-opacity=\"0.188235\" points=\"1211,-35 1108,-35 1108,0 1211,0 1211,-35\"/>\n<text text-anchor=\"middle\" x=\"1159.5\" y=\"-14.4\" font-family=\"arial\" font-size=\"12.00\" fill=\"darkgreen\">subject.Zygosity</text>\n</a>\n</g>\n</g>\n<!-- subject.Allele&#45;&gt;subject.Zygosity -->\n<g id=\"edge4\" class=\"edge\">\n<title>subject.Allele-&gt;subject.Zygosity</title>\n<path fill=\"none\" stroke=\"#000000\" stroke-width=\"0.75\" stroke-opacity=\"0.250980\" d=\"M1360.89,-76.64C1320.54,-64.99 1256.17,-46.41 1211.09,-33.4\"/>\n</g>\n<!-- subject.Subject -->\n<g id=\"node7\" class=\"node\">\n<title>subject.Subject</title>\n<g id=\"a_node7\"><a xlink:title=\"subject              \r\n------------------------------\r\nsex                  \r\nsubject_birth_date   \r\nsubject_description=&quot;&quot; \r\n\">\n<polygon fill=\"#00ff00\" fill-opacity=\"0.188235\" stroke=\"#00ff00\" stroke-opacity=\"0.188235\" points=\"696.5,-106 598.5,-106 598.5,-71 696.5,-71 696.5,-106\"/>\n<text text-anchor=\"start\" x=\"606.5\" y=\"-86.4\" font-family=\"arial\" text-decoration=\"underline\" font-size=\"12.00\" fill=\"darkgreen\">subject.Subject</text>\n</a>\n</g>\n</g>\n<!-- subject.Subject&#45;&gt;subject.Subject.Strain -->\n<g id=\"edge5\" class=\"edge\">\n<title>subject.Subject-&gt;subject.Subject.Strain</title>\n<path fill=\"none\" stroke=\"#000000\" stroke-width=\"2\" stroke-opacity=\"0.250980\" d=\"M598.32,-84.97C504.99,-79.65 295.99,-65.2 122.5,-35 110.75,-32.95 98,-29.95 86.86,-27.07\"/>\n</g>\n<!-- subject.Subject&#45;&gt;subject.Subject.Protocol -->\n<g id=\"edge6\" class=\"edge\">\n<title>subject.Subject-&gt;subject.Subject.Protocol</title>\n<path fill=\"none\" stroke=\"#000000\" stroke-width=\"0.75\" stroke-opacity=\"0.250980\" d=\"M647.5,-70.8C647.5,-57.08 647.5,-38.19 647.5,-27.27\"/>\n</g>\n<!-- subject.Subject&#45;&gt;subject.Subject.Line -->\n<g id=\"edge7\" class=\"edge\">\n<title>subject.Subject-&gt;subject.Subject.Line</title>\n<path fill=\"none\" stroke=\"#000000\" stroke-width=\"2\" stroke-opacity=\"0.250980\" d=\"M696.69,-81.21C761.09,-72.62 877.35,-55.86 975.5,-35 986.18,-32.73 997.77,-29.78 1008,-27\"/>\n</g>\n<!-- subject.Subject.Lab -->\n<g id=\"node9\" class=\"node\">\n<title>subject.Subject.Lab</title>\n<g id=\"a_node9\"><a xlink:title=\"→ subject.Subject\r\n→ lab.Lab\r\n------------------------------\r\nsubject_alias=&quot;&quot;     \r\n\">\n<polygon fill=\"transparent\" stroke=\"transparent\" points=\"830,-27 727,-27 727,-8 830,-8 830,-27\"/>\n<text text-anchor=\"middle\" x=\"778.5\" y=\"-15\" font-family=\"arial\" font-size=\"10.00\">subject.Subject.Lab</text>\n</a>\n</g>\n</g>\n<!-- subject.Subject&#45;&gt;subject.Subject.Lab -->\n<g id=\"edge8\" class=\"edge\">\n<title>subject.Subject-&gt;subject.Subject.Lab</title>\n<path fill=\"none\" stroke=\"#000000\" stroke-width=\"0.75\" stroke-opacity=\"0.250980\" d=\"M678.88,-70.97C705.07,-57.18 741.36,-38.06 762.13,-27.12\"/>\n</g>\n<!-- subject.Subject.Source -->\n<g id=\"node10\" class=\"node\">\n<title>subject.Subject.Source</title>\n<g id=\"a_node10\"><a xlink:title=\"→ subject.Subject\r\n------------------------------\r\n→ lab.Source\r\n\">\n<polygon fill=\"transparent\" stroke=\"transparent\" points=\"966.5,-27 848.5,-27 848.5,-8 966.5,-8 966.5,-27\"/>\n<text text-anchor=\"middle\" x=\"907.5\" y=\"-15\" font-family=\"arial\" font-size=\"10.00\">subject.Subject.Source</text>\n</a>\n</g>\n</g>\n<!-- subject.Subject&#45;&gt;subject.Subject.Source -->\n<g id=\"edge9\" class=\"edge\">\n<title>subject.Subject-&gt;subject.Subject.Source</title>\n<path fill=\"none\" stroke=\"#000000\" stroke-width=\"2\" stroke-opacity=\"0.250980\" d=\"M696.71,-74.44C749.12,-60.53 830.56,-38.92 875.32,-27.04\"/>\n</g>\n<!-- subject.Subject.User -->\n<g id=\"node11\" class=\"node\">\n<title>subject.Subject.User</title>\n<g id=\"a_node11\"><a xlink:title=\"→ subject.Subject\r\n→ lab.User\r\n\">\n<polygon fill=\"transparent\" stroke=\"transparent\" points=\"239.5,-27 131.5,-27 131.5,-8 239.5,-8 239.5,-27\"/>\n<text text-anchor=\"middle\" x=\"185.5\" y=\"-15\" font-family=\"arial\" font-size=\"10.00\">subject.Subject.User</text>\n</a>\n</g>\n</g>\n<!-- subject.Subject&#45;&gt;subject.Subject.User -->\n<g id=\"edge10\" class=\"edge\">\n<title>subject.Subject-&gt;subject.Subject.User</title>\n<path fill=\"none\" stroke=\"#000000\" stroke-width=\"0.75\" stroke-opacity=\"0.250980\" d=\"M598.35,-83.04C522.72,-75.72 373.46,-59.48 248.5,-35 237.52,-32.85 225.61,-29.89 215.13,-27.08\"/>\n</g>\n<!-- subject.SubjectDeath -->\n<g id=\"node12\" class=\"node\">\n<title>subject.SubjectDeath</title>\n<g id=\"a_node12\"><a xlink:title=\"→ subject.Subject\r\n------------------------------\r\ndeath_date           \r\n\">\n<polygon fill=\"#00ff00\" fill-opacity=\"0.188235\" stroke=\"#00ff00\" stroke-opacity=\"0.188235\" points=\"389,-35 258,-35 258,0 389,0 389,-35\"/>\n<text text-anchor=\"middle\" x=\"323.5\" y=\"-14.4\" font-family=\"arial\" font-size=\"12.00\" fill=\"darkgreen\">subject.SubjectDeath</text>\n</a>\n</g>\n</g>\n<!-- subject.Subject&#45;&gt;subject.SubjectDeath -->\n<g id=\"edge11\" class=\"edge\">\n<title>subject.Subject-&gt;subject.SubjectDeath</title>\n<path fill=\"none\" stroke=\"#000000\" stroke-width=\"2\" stroke-opacity=\"0.250980\" d=\"M598.34,-77.27C548.09,-66.78 467.82,-49.93 398.5,-35 395.5,-34.35 392.44,-33.69 389.34,-33.02\"/>\n</g>\n<!-- subject.SubjectCullMethod -->\n<g id=\"node13\" class=\"node\">\n<title>subject.SubjectCullMethod</title>\n<g id=\"a_node13\"><a xlink:title=\"→ subject.Subject\r\n------------------------------\r\ncull_method          \r\n\">\n<polygon fill=\"#00ff00\" fill-opacity=\"0.188235\" stroke=\"#00ff00\" stroke-opacity=\"0.188235\" points=\"567.5,-35 407.5,-35 407.5,0 567.5,0 567.5,-35\"/>\n<text text-anchor=\"middle\" x=\"487.5\" y=\"-14.4\" font-family=\"arial\" font-size=\"12.00\" fill=\"darkgreen\">subject.SubjectCullMethod</text>\n</a>\n</g>\n</g>\n<!-- subject.Subject&#45;&gt;subject.SubjectCullMethod -->\n<g id=\"edge12\" class=\"edge\">\n<title>subject.Subject-&gt;subject.SubjectCullMethod</title>\n<path fill=\"none\" stroke=\"#000000\" stroke-width=\"2\" stroke-opacity=\"0.250980\" d=\"M609.18,-70.97C583.94,-60.09 551.02,-45.89 525.79,-35.01\"/>\n</g>\n<!-- subject.Subject&#45;&gt;subject.Zygosity -->\n<g id=\"edge13\" class=\"edge\">\n<title>subject.Subject-&gt;subject.Zygosity</title>\n<path fill=\"none\" stroke=\"#000000\" stroke-width=\"0.75\" stroke-opacity=\"0.250980\" d=\"M696.58,-84.18C779.82,-78.02 953.75,-62.84 1098.5,-35 1101.52,-34.42 1104.6,-33.77 1107.71,-33.07\"/>\n</g>\n<!-- subject.Line -->\n<g id=\"node8\" class=\"node\">\n<title>subject.Line</title>\n<g id=\"a_node8\"><a xlink:title=\"line                 \r\n------------------------------\r\nspecies=&quot;&quot;           \r\nline_description=&quot;&quot;  \r\ntarget_phenotype=&quot;&quot;  \r\nis_active            \r\n\">\n<polygon fill=\"#000000\" fill-opacity=\"0.125490\" stroke=\"transparent\" points=\"1312,-106 1243,-106 1243,-71 1312,-71 1312,-106\"/>\n<text text-anchor=\"start\" x=\"1251\" y=\"-87\" font-family=\"arial\" text-decoration=\"underline\" font-size=\"10.00\">subject.Line</text>\n</a>\n</g>\n</g>\n<!-- subject.Line&#45;&gt;subject.Subject.Line -->\n<g id=\"edge14\" class=\"edge\">\n<title>subject.Line-&gt;subject.Subject.Line</title>\n<path fill=\"none\" stroke=\"#000000\" stroke-width=\"0.75\" stroke-dasharray=\"5,2\" stroke-opacity=\"0.250980\" d=\"M1242.86,-77.54C1195.61,-63.96 1111.75,-39.85 1067.21,-27.04\"/>\n</g>\n<!-- subject.Line&#45;&gt;subject.Line.Allele -->\n<g id=\"edge15\" class=\"edge\">\n<title>subject.Line-&gt;subject.Line.Allele</title>\n<path fill=\"none\" stroke=\"#000000\" stroke-width=\"0.75\" stroke-opacity=\"0.250980\" d=\"M1277.5,-70.8C1277.5,-57.08 1277.5,-38.19 1277.5,-27.27\"/>\n</g>\n</g>\n</svg>",
      "text/plain": [
       "<datajoint.diagram.Diagram at 0x7fe23fd8ef10>"
      ]
     },
     "execution_count": 9,
     "metadata": {},
     "output_type": "execute_result"
    }
   ],
   "source": [
    "dj.Diagram(subject)"
   ]
  },
  {
   "cell_type": "code",
   "execution_count": 6,
   "id": "5a54bdf2",
   "metadata": {},
   "outputs": [
    {
     "data": {
      "text/html": [
       "\n",
       "    \n",
       "    <style type=\"text/css\">\n",
       "        .Relation{\n",
       "            border-collapse:collapse;\n",
       "        }\n",
       "        .Relation th{\n",
       "            background: #A0A0A0; color: #ffffff; padding:4px; border:#f0e0e0 1px solid;\n",
       "            font-weight: normal; font-family: monospace; font-size: 100%;\n",
       "        }\n",
       "        .Relation td{\n",
       "            padding:4px; border:#f0e0e0 1px solid; font-size:100%;\n",
       "        }\n",
       "        .Relation tr:nth-child(odd){\n",
       "            background: #ffffff;\n",
       "        }\n",
       "        .Relation tr:nth-child(even){\n",
       "            background: #f3f1ff;\n",
       "        }\n",
       "        /* Tooltip container */\n",
       "        .djtooltip {\n",
       "        }\n",
       "        /* Tooltip text */\n",
       "        .djtooltip .djtooltiptext {\n",
       "            visibility: hidden;\n",
       "            width: 120px;\n",
       "            background-color: black;\n",
       "            color: #fff;\n",
       "            text-align: center;\n",
       "            padding: 5px 0;\n",
       "            border-radius: 6px;\n",
       "            /* Position the tooltip text - see examples below! */\n",
       "            position: absolute;\n",
       "            z-index: 1;\n",
       "        }\n",
       "        #primary {\n",
       "            font-weight: bold;\n",
       "            color: black;\n",
       "        }\n",
       "        #nonprimary {\n",
       "            font-weight: normal;\n",
       "            color: white;\n",
       "        }\n",
       "\n",
       "        /* Show the tooltip text when you mouse over the tooltip container */\n",
       "        .djtooltip:hover .djtooltiptext {\n",
       "            visibility: visible;\n",
       "        }\n",
       "    </style>\n",
       "    \n",
       "    <b>litter information</b>\n",
       "        <div style=\"max-height:1000px;max-width:1500px;overflow:auto;\">\n",
       "        <table border=\"1\" class=\"Relation\">\n",
       "            <thead> <tr style=\"text-align: right;\"> <th> <div class=\"djtooltip\">\n",
       "                            <p id=\"primary\">line</p>\n",
       "                            <span class=\"djtooltiptext\">abbreviated name for the line</span>\n",
       "                        </div></th><th><div class=\"djtooltip\">\n",
       "                            <p id=\"primary\">breeding_pair</p>\n",
       "                            <span class=\"djtooltiptext\"></span>\n",
       "                        </div></th><th><div class=\"djtooltip\">\n",
       "                            <p id=\"primary\">litter_birth_date</p>\n",
       "                            <span class=\"djtooltiptext\"></span>\n",
       "                        </div></th><th><div class=\"djtooltip\">\n",
       "                            <p id=\"nonprimary\">num_of_pups</p>\n",
       "                            <span class=\"djtooltiptext\"></span>\n",
       "                        </div></th><th><div class=\"djtooltip\">\n",
       "                            <p id=\"nonprimary\">litter_notes</p>\n",
       "                            <span class=\"djtooltiptext\">notes</span>\n",
       "                        </div> </th> </tr> </thead>\n",
       "            <tbody> <tr> <td>Black 6</td>\n",
       "<td>1/2</td>\n",
       "<td>2020-10-20</td>\n",
       "<td>2</td>\n",
       "<td></td></tr><tr><td>Brown 6</td>\n",
       "<td>5/6</td>\n",
       "<td>2020-01-01</td>\n",
       "<td>3</td>\n",
       "<td></td> </tr> </tbody>\n",
       "        </table>\n",
       "        \n",
       "        <p>Total: 2</p></div>\n",
       "        "
      ],
      "text/plain": [
       "*line       *breeding_pair *litter_birth_ num_of_pups    litter_notes  \n",
       "+---------+ +------------+ +------------+ +------------+ +------------+\n",
       "Black 6     1/2            2020-10-20     2                            \n",
       "Brown 6     5/6            2020-01-01     3                            \n",
       " (Total: 2)"
      ]
     },
     "execution_count": 6,
     "metadata": {},
     "output_type": "execute_result"
    }
   ],
   "source": [
    "genotyping.Litter()"
   ]
  },
  {
   "cell_type": "code",
   "execution_count": 7,
   "id": "8811398d",
   "metadata": {},
   "outputs": [
    {
     "data": {
      "image/svg+xml": "<svg xmlns=\"http://www.w3.org/2000/svg\" xmlns:xlink=\"http://www.w3.org/1999/xlink\" width=\"956pt\" height=\"185pt\" viewBox=\"0.00 0.00 955.50 185.00\">\n<g id=\"graph0\" class=\"graph\" transform=\"scale(1 1) rotate(0) translate(4 181)\">\n<polygon fill=\"white\" stroke=\"transparent\" points=\"-4,4 -4,-181 951.5,-181 951.5,4 -4,4\"/>\n<!-- genotyping.BreedingPair.Mother -->\n<g id=\"node1\" class=\"node\">\n<title>genotyping.BreedingPair.Mother</title>\n<g id=\"a_node1\"><a xlink:title=\"→ genotyping.BreedingPair\r→ subject.Subject\r\">\n<polygon fill=\"transparent\" stroke=\"transparent\" points=\"155,-98 0,-98 0,-79 155,-79 155,-98\"/>\n<text text-anchor=\"middle\" x=\"77.5\" y=\"-86\" font-family=\"arial\" font-size=\"10.00\">genotyping.BreedingPair.Mother</text>\n</a>\n</g>\n</g>\n<!-- genotyping.AlleleSequence -->\n<g id=\"node2\" class=\"node\">\n<title>genotyping.AlleleSequence</title>\n<g id=\"a_node2\"><a xlink:title=\"→ subject.Allele\r→ genotyping.Sequence\r\">\n<polygon fill=\"#000000\" fill-opacity=\"0.125490\" stroke=\"transparent\" points=\"601.5,-106 467.5,-106 467.5,-71 601.5,-71 601.5,-106\"/>\n<text text-anchor=\"middle\" x=\"534.5\" y=\"-86\" font-family=\"arial\" font-size=\"10.00\">genotyping.AlleleSequence</text>\n</a>\n</g>\n</g>\n<!-- genotyping.SubjectCaging -->\n<g id=\"node3\" class=\"node\">\n<title>genotyping.SubjectCaging</title>\n<g id=\"a_node3\"><a xlink:title=\"→ subject.Subject\rcaging_datetime      \r------------------------------\r→ genotyping.Cage\r→ lab.User\r\">\n<polygon fill=\"#00ff00\" fill-opacity=\"0.188235\" stroke=\"#00ff00\" stroke-opacity=\"0.188235\" points=\"947.5,-106 789.5,-106 789.5,-71 947.5,-71 947.5,-106\"/>\n<text text-anchor=\"start\" x=\"797.5\" y=\"-86.4\" font-family=\"arial\" text-decoration=\"underline\" font-size=\"12.00\" fill=\"darkgreen\">genotyping.SubjectCaging</text>\n</a>\n</g>\n</g>\n<!-- genotyping.BreedingPair -->\n<g id=\"node4\" class=\"node\">\n<title>genotyping.BreedingPair</title>\n<g id=\"a_node4\"><a xlink:title=\"→ subject.Line\rbreeding_pair        \r------------------------------\rbp_start_date=null   \rbp_end_date=null     \rbp_description=&quot;&quot;    \r\">\n<polygon fill=\"#00ff00\" fill-opacity=\"0.188235\" stroke=\"#00ff00\" stroke-opacity=\"0.188235\" points=\"324,-177 175,-177 175,-142 324,-142 324,-177\"/>\n<text text-anchor=\"start\" x=\"183\" y=\"-157.4\" font-family=\"arial\" text-decoration=\"underline\" font-size=\"12.00\" fill=\"darkgreen\">genotyping.BreedingPair</text>\n</a>\n</g>\n</g>\n<!-- genotyping.BreedingPair&#45;&gt;genotyping.BreedingPair.Mother -->\n<g id=\"edge1\" class=\"edge\">\n<title>genotyping.BreedingPair-&gt;genotyping.BreedingPair.Mother</title>\n<path fill=\"none\" stroke=\"#000000\" stroke-width=\"0.75\" stroke-opacity=\"0.250980\" d=\"M208.3,-141.97C173.91,-128.18 126.27,-109.06 98.99,-98.12\"/>\n</g>\n<!-- genotyping.BreedingPair.Father -->\n<g id=\"node5\" class=\"node\">\n<title>genotyping.BreedingPair.Father</title>\n<g id=\"a_node5\"><a xlink:title=\"→ genotyping.BreedingPair\r------------------------------\r→ subject.Subject\r\">\n<polygon fill=\"transparent\" stroke=\"transparent\" points=\"326,-98 173,-98 173,-79 326,-79 326,-98\"/>\n<text text-anchor=\"middle\" x=\"249.5\" y=\"-86\" font-family=\"arial\" font-size=\"10.00\">genotyping.BreedingPair.Father</text>\n</a>\n</g>\n</g>\n<!-- genotyping.BreedingPair&#45;&gt;genotyping.BreedingPair.Father -->\n<g id=\"edge2\" class=\"edge\">\n<title>genotyping.BreedingPair-&gt;genotyping.BreedingPair.Father</title>\n<path fill=\"none\" stroke=\"#000000\" stroke-width=\"2\" stroke-opacity=\"0.250980\" d=\"M249.5,-141.8C249.5,-128.08 249.5,-109.19 249.5,-98.27\"/>\n</g>\n<!-- genotyping.Litter -->\n<g id=\"node7\" class=\"node\">\n<title>genotyping.Litter</title>\n<g id=\"a_node7\"><a xlink:title=\"→ genotyping.BreedingPair\rlitter_birth_date    \r------------------------------\rnum_of_pups          \rlitter_notes=&quot;&quot;      \r\">\n<polygon fill=\"#00ff00\" fill-opacity=\"0.188235\" stroke=\"#00ff00\" stroke-opacity=\"0.188235\" points=\"449,-106 344,-106 344,-71 449,-71 449,-106\"/>\n<text text-anchor=\"start\" x=\"352\" y=\"-86.4\" font-family=\"arial\" text-decoration=\"underline\" font-size=\"12.00\" fill=\"darkgreen\">genotyping.Litter</text>\n</a>\n</g>\n</g>\n<!-- genotyping.BreedingPair&#45;&gt;genotyping.Litter -->\n<g id=\"edge3\" class=\"edge\">\n<title>genotyping.BreedingPair-&gt;genotyping.Litter</title>\n<path fill=\"none\" stroke=\"#000000\" stroke-width=\"0.75\" stroke-opacity=\"0.250980\" d=\"M284.71,-141.97C307.9,-131.09 338.14,-116.89 361.32,-106.01\"/>\n</g>\n<!-- genotyping.Sequence -->\n<g id=\"node6\" class=\"node\">\n<title>genotyping.Sequence</title>\n<g id=\"a_node6\"><a xlink:title=\"sequence             \r------------------------------\rbase_pairs=&quot;&quot;        \rsequence_desc=&quot;&quot;     \r\">\n<polygon fill=\"#000000\" fill-opacity=\"0.125490\" stroke=\"transparent\" points=\"669.5,-177 559.5,-177 559.5,-142 669.5,-142 669.5,-177\"/>\n<text text-anchor=\"start\" x=\"567.5\" y=\"-158\" font-family=\"arial\" text-decoration=\"underline\" font-size=\"10.00\">genotyping.Sequence</text>\n</a>\n</g>\n</g>\n<!-- genotyping.Sequence&#45;&gt;genotyping.AlleleSequence -->\n<g id=\"edge4\" class=\"edge\">\n<title>genotyping.Sequence-&gt;genotyping.AlleleSequence</title>\n<path fill=\"none\" stroke=\"#000000\" stroke-width=\"0.75\" stroke-opacity=\"0.250980\" d=\"M595.13,-141.8C582.56,-130.95 566.23,-116.87 553.69,-106.05\"/>\n</g>\n<!-- genotyping.GenotypeTest -->\n<g id=\"node9\" class=\"node\">\n<title>genotyping.GenotypeTest</title>\n<g id=\"a_node9\"><a xlink:title=\"→ subject.Subject\r→ genotyping.Sequence\rgenotype_test_id     \r------------------------------\rtest_result          \r\">\n<polygon fill=\"#00ff00\" fill-opacity=\"0.188235\" stroke=\"#00ff00\" stroke-opacity=\"0.188235\" points=\"771.5,-106 619.5,-106 619.5,-71 771.5,-71 771.5,-106\"/>\n<text text-anchor=\"start\" x=\"627.5\" y=\"-86.4\" font-family=\"arial\" text-decoration=\"underline\" font-size=\"12.00\" fill=\"darkgreen\">genotyping.GenotypeTest</text>\n</a>\n</g>\n</g>\n<!-- genotyping.Sequence&#45;&gt;genotyping.GenotypeTest -->\n<g id=\"edge5\" class=\"edge\">\n<title>genotyping.Sequence-&gt;genotyping.GenotypeTest</title>\n<path fill=\"none\" stroke=\"#000000\" stroke-width=\"0.75\" stroke-opacity=\"0.250980\" d=\"M634.11,-141.8C646.84,-130.95 663.37,-116.87 676.07,-106.05\"/>\n</g>\n<!-- genotyping.Weaning -->\n<g id=\"node8\" class=\"node\">\n<title>genotyping.Weaning</title>\n<g id=\"a_node8\"><a xlink:title=\"→ genotyping.Litter\r------------------------------\rweaning_date         \rnum_of_male          \rnum_of_female        \rweaning_notes=&quot;&quot;     \r\">\n<polygon fill=\"#00ff00\" fill-opacity=\"0.188235\" stroke=\"#00ff00\" stroke-opacity=\"0.188235\" points=\"382,-35 255,-35 255,0 382,0 382,-35\"/>\n<text text-anchor=\"middle\" x=\"318.5\" y=\"-14.4\" font-family=\"arial\" font-size=\"12.00\" fill=\"darkgreen\">genotyping.Weaning</text>\n</a>\n</g>\n</g>\n<!-- genotyping.Litter&#45;&gt;genotyping.Weaning -->\n<g id=\"edge6\" class=\"edge\">\n<title>genotyping.Litter-&gt;genotyping.Weaning</title>\n<path fill=\"none\" stroke=\"#000000\" stroke-width=\"2\" stroke-opacity=\"0.250980\" d=\"M377.62,-70.8C365.35,-59.95 349.44,-45.87 337.21,-35.05\"/>\n</g>\n<!-- genotyping.SubjectLitter -->\n<g id=\"node10\" class=\"node\">\n<title>genotyping.SubjectLitter</title>\n<g id=\"a_node10\"><a xlink:title=\"→ subject.Subject\r------------------------------\r→ genotyping.Litter\r\">\n<polygon fill=\"#00ff00\" fill-opacity=\"0.188235\" stroke=\"#00ff00\" stroke-opacity=\"0.188235\" points=\"546.5,-35 400.5,-35 400.5,0 546.5,0 546.5,-35\"/>\n<text text-anchor=\"middle\" x=\"473.5\" y=\"-14.4\" font-family=\"arial\" font-size=\"12.00\" fill=\"darkgreen\">genotyping.SubjectLitter</text>\n</a>\n</g>\n</g>\n<!-- genotyping.Litter&#45;&gt;genotyping.SubjectLitter -->\n<g id=\"edge7\" class=\"edge\">\n<title>genotyping.Litter-&gt;genotyping.SubjectLitter</title>\n<path fill=\"none\" stroke=\"#000000\" stroke-width=\"0.75\" stroke-dasharray=\"5,2\" stroke-opacity=\"0.250980\" d=\"M415.14,-70.8C427.25,-59.95 442.96,-45.87 455.03,-35.05\"/>\n</g>\n<!-- genotyping.Cage -->\n<g id=\"node11\" class=\"node\">\n<title>genotyping.Cage</title>\n<g id=\"a_node11\"><a xlink:title=\"cage                 \r------------------------------\rcage_purpose=&quot;&quot;      \r\">\n<polygon fill=\"#000000\" fill-opacity=\"0.125490\" stroke=\"transparent\" points=\"913.5,-177 823.5,-177 823.5,-142 913.5,-142 913.5,-177\"/>\n<text text-anchor=\"start\" x=\"831.5\" y=\"-158\" font-family=\"arial\" text-decoration=\"underline\" font-size=\"10.00\">genotyping.Cage</text>\n</a>\n</g>\n</g>\n<!-- genotyping.Cage&#45;&gt;genotyping.SubjectCaging -->\n<g id=\"edge8\" class=\"edge\">\n<title>genotyping.Cage-&gt;genotyping.SubjectCaging</title>\n<path fill=\"none\" stroke=\"#000000\" stroke-width=\"0.75\" stroke-dasharray=\"5,2\" stroke-opacity=\"0.250980\" d=\"M868.5,-141.8C868.5,-130.95 868.5,-116.87 868.5,-106.05\"/>\n</g>\n</g>\n</svg>",
      "text/plain": [
       "<datajoint.diagram.Diagram at 0x7f84a880bdf0>"
      ]
     },
     "execution_count": 7,
     "metadata": {},
     "output_type": "execute_result"
    }
   ],
   "source": [
    "dj.Diagram(genotyping)"
   ]
  },
  {
   "cell_type": "code",
   "execution_count": 10,
   "id": "5243a782-93da-40fa-b243-03ddcb230c1d",
   "metadata": {},
   "outputs": [
    {
     "data": {
      "text/html": [
       "\n",
       "    \n",
       "    <style type=\"text/css\">\n",
       "        .Relation{\n",
       "            border-collapse:collapse;\n",
       "        }\n",
       "        .Relation th{\n",
       "            background: #A0A0A0; color: #ffffff; padding:4px; border:#f0e0e0 1px solid;\n",
       "            font-weight: normal; font-family: monospace; font-size: 100%;\n",
       "        }\n",
       "        .Relation td{\n",
       "            padding:4px; border:#f0e0e0 1px solid; font-size:100%;\n",
       "        }\n",
       "        .Relation tr:nth-child(odd){\n",
       "            background: #ffffff;\n",
       "        }\n",
       "        .Relation tr:nth-child(even){\n",
       "            background: #f3f1ff;\n",
       "        }\n",
       "        /* Tooltip container */\n",
       "        .djtooltip {\n",
       "        }\n",
       "        /* Tooltip text */\n",
       "        .djtooltip .djtooltiptext {\n",
       "            visibility: hidden;\n",
       "            width: 120px;\n",
       "            background-color: black;\n",
       "            color: #fff;\n",
       "            text-align: center;\n",
       "            padding: 5px 0;\n",
       "            border-radius: 6px;\n",
       "            /* Position the tooltip text - see examples below! */\n",
       "            position: absolute;\n",
       "            z-index: 1;\n",
       "        }\n",
       "        #primary {\n",
       "            font-weight: bold;\n",
       "            color: black;\n",
       "        }\n",
       "        #nonprimary {\n",
       "            font-weight: normal;\n",
       "            color: white;\n",
       "        }\n",
       "\n",
       "        /* Show the tooltip text when you mouse over the tooltip container */\n",
       "        .djtooltip:hover .djtooltiptext {\n",
       "            visibility: visible;\n",
       "        }\n",
       "    </style>\n",
       "    \n",
       "    <b></b>\n",
       "        <div style=\"max-height:1000px;max-width:1500px;overflow:auto;\">\n",
       "        <table border=\"1\" class=\"Relation\">\n",
       "            <thead> <tr style=\"text-align: right;\"> <th> <div class=\"djtooltip\">\n",
       "                            <p id=\"primary\">subject</p>\n",
       "                            <span class=\"djtooltiptext\"></span>\n",
       "                        </div></th><th><div class=\"djtooltip\">\n",
       "                            <p id=\"primary\">session_datetime</p>\n",
       "                            <span class=\"djtooltiptext\"></span>\n",
       "                        </div> </th> </tr> </thead>\n",
       "            <tbody> <tr> <td>subject5</td>\n",
       "<td>2020-04-15 11:16:38</td></tr><tr><td>subject6</td>\n",
       "<td>2021-06-02 14:04:22</td> </tr> </tbody>\n",
       "        </table>\n",
       "        \n",
       "        <p>Total: 2</p></div>\n",
       "        "
      ],
      "text/plain": [
       "*subject     *session_datet\n",
       "+----------+ +------------+\n",
       "subject5     2020-04-15 11:\n",
       "subject6     2021-06-02 14:\n",
       " (Total: 2)"
      ]
     },
     "execution_count": 10,
     "metadata": {},
     "output_type": "execute_result"
    }
   ],
   "source": [
    "session.Session()"
   ]
  },
  {
   "cell_type": "code",
   "execution_count": 11,
   "id": "7e48d7c0-b7bd-4f0b-abcb-1aedc69d5310",
   "metadata": {},
   "outputs": [
    {
     "data": {
      "image/svg+xml": "<svg xmlns=\"http://www.w3.org/2000/svg\" xmlns:xlink=\"http://www.w3.org/1999/xlink\" width=\"662pt\" height=\"114pt\" viewBox=\"0.00 0.00 662.00 114.00\">\n<g id=\"graph0\" class=\"graph\" transform=\"scale(1 1) rotate(0) translate(4 110)\">\n<polygon fill=\"white\" stroke=\"transparent\" points=\"-4,4 -4,-110 658,-110 658,4 -4,4\"/>\n<!-- session.ProjectSession -->\n<g id=\"node1\" class=\"node\">\n<title>session.ProjectSession</title>\n<g id=\"a_node1\"><a xlink:title=\"→ lab.Project\r\n→ session.Session\r\n\">\n<polygon fill=\"#00ff00\" fill-opacity=\"0.188235\" stroke=\"#00ff00\" stroke-opacity=\"0.188235\" points=\"142,-35 0,-35 0,0 142,0 142,-35\"/>\n<text text-anchor=\"middle\" x=\"71\" y=\"-14.4\" font-family=\"arial\" font-size=\"12.00\" fill=\"darkgreen\">session.ProjectSession</text>\n</a>\n</g>\n</g>\n<!-- session.SessionExperimenter -->\n<g id=\"node2\" class=\"node\">\n<title>session.SessionExperimenter</title>\n<g id=\"a_node2\"><a xlink:title=\"→ session.Session\r\n→ lab.User\r\n\">\n<polygon fill=\"#00ff00\" fill-opacity=\"0.188235\" stroke=\"#00ff00\" stroke-opacity=\"0.188235\" points=\"336,-35 160,-35 160,0 336,0 336,-35\"/>\n<text text-anchor=\"middle\" x=\"248\" y=\"-14.4\" font-family=\"arial\" font-size=\"12.00\" fill=\"darkgreen\">session.SessionExperimenter</text>\n</a>\n</g>\n</g>\n<!-- session.Session -->\n<g id=\"node3\" class=\"node\">\n<title>session.Session</title>\n<g id=\"a_node3\"><a xlink:title=\"→ subject.Subject\r\nsession_datetime     \r\n\">\n<polygon fill=\"#00ff00\" fill-opacity=\"0.188235\" stroke=\"#00ff00\" stroke-opacity=\"0.188235\" points=\"385,-106 281,-106 281,-71 385,-71 385,-106\"/>\n<text text-anchor=\"start\" x=\"289\" y=\"-86.4\" font-family=\"arial\" text-decoration=\"underline\" font-size=\"12.00\" fill=\"darkgreen\">session.Session</text>\n</a>\n</g>\n</g>\n<!-- session.Session&#45;&gt;session.ProjectSession -->\n<g id=\"edge1\" class=\"edge\">\n<title>session.Session-&gt;session.ProjectSession</title>\n<path fill=\"none\" stroke=\"#000000\" stroke-width=\"0.75\" stroke-opacity=\"0.250980\" d=\"M280.92,-73.79C238.69,-62.66 179.01,-46.95 134.07,-35.11\"/>\n</g>\n<!-- session.Session&#45;&gt;session.SessionExperimenter -->\n<g id=\"edge2\" class=\"edge\">\n<title>session.Session-&gt;session.SessionExperimenter</title>\n<path fill=\"none\" stroke=\"#000000\" stroke-width=\"0.75\" stroke-opacity=\"0.250980\" d=\"M312.42,-70.8C299.06,-59.95 281.71,-45.87 268.39,-35.05\"/>\n</g>\n<!-- session.SessionNote -->\n<g id=\"node4\" class=\"node\">\n<title>session.SessionNote</title>\n<g id=\"a_node4\"><a xlink:title=\"→ session.Session\r\n------------------------------\r\nsession_note         \r\n\">\n<polygon fill=\"#00ff00\" fill-opacity=\"0.188235\" stroke=\"#00ff00\" stroke-opacity=\"0.188235\" points=\"484,-35 354,-35 354,0 484,0 484,-35\"/>\n<text text-anchor=\"middle\" x=\"419\" y=\"-14.4\" font-family=\"arial\" font-size=\"12.00\" fill=\"darkgreen\">session.SessionNote</text>\n</a>\n</g>\n</g>\n<!-- session.Session&#45;&gt;session.SessionNote -->\n<g id=\"edge3\" class=\"edge\">\n<title>session.Session-&gt;session.SessionNote</title>\n<path fill=\"none\" stroke=\"#000000\" stroke-width=\"2\" stroke-opacity=\"0.250980\" d=\"M353.82,-70.8C367.34,-59.95 384.89,-45.87 398.37,-35.05\"/>\n</g>\n<!-- session.SessionDirectory -->\n<g id=\"node5\" class=\"node\">\n<title>session.SessionDirectory</title>\n<g id=\"a_node5\"><a xlink:title=\"→ session.Session\r\n------------------------------\r\nsession_dir          \r\n\">\n<polygon fill=\"#00ff00\" fill-opacity=\"0.188235\" stroke=\"#00ff00\" stroke-opacity=\"0.188235\" points=\"654,-35 502,-35 502,0 654,0 654,-35\"/>\n<text text-anchor=\"middle\" x=\"578\" y=\"-14.4\" font-family=\"arial\" font-size=\"12.00\" fill=\"darkgreen\">session.SessionDirectory</text>\n</a>\n</g>\n</g>\n<!-- session.Session&#45;&gt;session.SessionDirectory -->\n<g id=\"edge4\" class=\"edge\">\n<title>session.Session-&gt;session.SessionDirectory</title>\n<path fill=\"none\" stroke=\"#000000\" stroke-width=\"2\" stroke-opacity=\"0.250980\" d=\"M385.26,-72.78C424.61,-61.7 478.56,-46.5 519.38,-35.01\"/>\n</g>\n</g>\n</svg>",
      "text/plain": [
       "<datajoint.diagram.Diagram at 0x7fe23fcdcfd0>"
      ]
     },
     "execution_count": 11,
     "metadata": {},
     "output_type": "execute_result"
    }
   ],
   "source": [
    "dj.Diagram(session)"
   ]
  },
  {
   "cell_type": "markdown",
   "id": "c510fe4d-09ed-472f-830f-4401bd6830d0",
   "metadata": {},
   "source": []
  },
  {
   "cell_type": "code",
   "execution_count": 12,
   "id": "1984077d-a9f2-4b17-8034-ee2af8f105f4",
   "metadata": {},
   "outputs": [],
   "source": [
    "# dj.Diagram(genotyping) + dj.Diagram(subject.Subject) + dj.Diagram(subject.Allele)"
   ]
  },
  {
   "cell_type": "markdown",
   "id": "b60f5f4c-d366-4034-a40d-2d2095cb2a14",
   "metadata": {},
   "source": [
    "## Explore each table"
   ]
  },
  {
   "cell_type": "code",
   "execution_count": 13,
   "id": "9c0821e1-9125-4c41-bc9c-567f53d0a5e5",
   "metadata": {},
   "outputs": [
    {
     "name": "stdout",
     "output_type": "stream",
     "text": [
      "# Animal Subject\n",
      "subject              : varchar(8)                   \n",
      "---\n",
      "sex                  : enum('M','F','U')            \n",
      "subject_birth_date   : date                         \n",
      "subject_description=\"\" : varchar(1024)                \n",
      "\n"
     ]
    },
    {
     "data": {
      "text/plain": [
       "'# Animal Subject\\nsubject              : varchar(8)                   \\n---\\nsex                  : enum(\\'M\\',\\'F\\',\\'U\\')            \\nsubject_birth_date   : date                         \\nsubject_description=\"\" : varchar(1024)                \\n'"
      ]
     },
     "execution_count": 13,
     "metadata": {},
     "output_type": "execute_result"
    }
   ],
   "source": [
    "# check table definition with describe()\n",
    "subject.Subject.describe()"
   ]
  },
  {
   "cell_type": "code",
   "execution_count": 14,
   "id": "504d55ed-25bd-4bb1-bce9-c516bd3595df",
   "metadata": {},
   "outputs": [
    {
     "name": "stdout",
     "output_type": "stream",
     "text": [
      "-> subject.Subject\n",
      "-> subject.Allele\n",
      "---\n",
      "zygosity             : enum('Present','Absent','Homozygous','Heterozygous') \n",
      "\n"
     ]
    },
    {
     "data": {
      "text/plain": [
       "\"-> subject.Subject\\n-> subject.Allele\\n---\\nzygosity             : enum('Present','Absent','Homozygous','Heterozygous') \\n\""
      ]
     },
     "execution_count": 14,
     "metadata": {},
     "output_type": "execute_result"
    }
   ],
   "source": [
    "# check table definition with dependencies with describe()\n",
    "subject.Zygosity.describe()"
   ]
  },
  {
   "cell_type": "code",
   "execution_count": 15,
   "id": "1edded31-bdef-42fb-8f58-b42b9b186cf1",
   "metadata": {},
   "outputs": [
    {
     "data": {
      "text/plain": [
       "# \n",
       "subject              : varchar(8)                   # \n",
       "allele               : varchar(32)                  # abbreviated allele name\n",
       "---\n",
       "zygosity             : enum('Present','Absent','Homozygous','Heterozygous') # "
      ]
     },
     "execution_count": 15,
     "metadata": {},
     "output_type": "execute_result"
    }
   ],
   "source": [
    "# check the name of every attribute with heading, \n",
    "# which will spell out the foreign key definition inherited from another table\n",
    "subject.Zygosity.heading"
   ]
  },
  {
   "cell_type": "code",
   "execution_count": 10,
   "id": "3bdf9e2c",
   "metadata": {},
   "outputs": [
    {
     "data": {
      "text/plain": [
       "# \n",
       "line                 : varchar(32)                  # abbreviated name for the line\n",
       "breeding_pair        : varchar(32)                  # \n",
       "---\n",
       "bp_start_date=null   : date                         # \n",
       "bp_end_date=null     : date                         # \n",
       "bp_description=\"\"    : varchar(2048)                # "
      ]
     },
     "execution_count": 10,
     "metadata": {},
     "output_type": "execute_result"
    }
   ],
   "source": [
    "genotyping.BreedingPair.heading"
   ]
  },
  {
   "cell_type": "markdown",
   "id": "f6c110c0-0966-4283-a0ba-a7de2ce69e25",
   "metadata": {},
   "source": [
    "## Insert data into Manual and Lookup tables"
   ]
  },
  {
   "cell_type": "markdown",
   "id": "54cf050e-882e-4672-be31-1ca3df52fa58",
   "metadata": {},
   "source": [
    "Tables in this workflow are either manual tables or lookup tables. To insert into these tables, DataJoint provide method `.insert1()` and `insert()`."
   ]
  },
  {
   "cell_type": "code",
   "execution_count": 16,
   "id": "d5b43904-9711-4bce-8ae5-d0d797118dec",
   "metadata": {},
   "outputs": [],
   "source": [
    "subject.Subject.insert1(\n",
    "    dict(subject='subject1', sex='M', subject_birth_date='2020-12-30', \n",
    "         subject_description='test animal'), skip_duplicates=True)\n",
    "subject.Subject.insert1(\n",
    "    ('subject2', 'F', '2020-11-30', 'test animal'), skip_duplicates=True)"
   ]
  },
  {
   "cell_type": "markdown",
   "id": "49d43ca2-2cd3-4659-849f-5bcc09c1367e",
   "metadata": {},
   "source": [
    "`skip_duplicates=True` will prevent an error if you already have data for the primary keys in a given entry."
   ]
  },
  {
   "cell_type": "code",
   "execution_count": 17,
   "id": "9bf2c953-7b4c-4a70-99fd-124a4d28171b",
   "metadata": {},
   "outputs": [
    {
     "data": {
      "text/html": [
       "\n",
       "    \n",
       "    <style type=\"text/css\">\n",
       "        .Relation{\n",
       "            border-collapse:collapse;\n",
       "        }\n",
       "        .Relation th{\n",
       "            background: #A0A0A0; color: #ffffff; padding:4px; border:#f0e0e0 1px solid;\n",
       "            font-weight: normal; font-family: monospace; font-size: 100%;\n",
       "        }\n",
       "        .Relation td{\n",
       "            padding:4px; border:#f0e0e0 1px solid; font-size:100%;\n",
       "        }\n",
       "        .Relation tr:nth-child(odd){\n",
       "            background: #ffffff;\n",
       "        }\n",
       "        .Relation tr:nth-child(even){\n",
       "            background: #f3f1ff;\n",
       "        }\n",
       "        /* Tooltip container */\n",
       "        .djtooltip {\n",
       "        }\n",
       "        /* Tooltip text */\n",
       "        .djtooltip .djtooltiptext {\n",
       "            visibility: hidden;\n",
       "            width: 120px;\n",
       "            background-color: black;\n",
       "            color: #fff;\n",
       "            text-align: center;\n",
       "            padding: 5px 0;\n",
       "            border-radius: 6px;\n",
       "            /* Position the tooltip text - see examples below! */\n",
       "            position: absolute;\n",
       "            z-index: 1;\n",
       "        }\n",
       "        #primary {\n",
       "            font-weight: bold;\n",
       "            color: black;\n",
       "        }\n",
       "        #nonprimary {\n",
       "            font-weight: normal;\n",
       "            color: white;\n",
       "        }\n",
       "\n",
       "        /* Show the tooltip text when you mouse over the tooltip container */\n",
       "        .djtooltip:hover .djtooltiptext {\n",
       "            visibility: visible;\n",
       "        }\n",
       "    </style>\n",
       "    \n",
       "    <b>Animal Subject</b>\n",
       "        <div style=\"max-height:1000px;max-width:1500px;overflow:auto;\">\n",
       "        <table border=\"1\" class=\"Relation\">\n",
       "            <thead> <tr style=\"text-align: right;\"> <th> <div class=\"djtooltip\">\n",
       "                            <p id=\"primary\">subject</p>\n",
       "                            <span class=\"djtooltiptext\"></span>\n",
       "                        </div></th><th><div class=\"djtooltip\">\n",
       "                            <p id=\"nonprimary\">sex</p>\n",
       "                            <span class=\"djtooltiptext\"></span>\n",
       "                        </div></th><th><div class=\"djtooltip\">\n",
       "                            <p id=\"nonprimary\">subject_birth_date</p>\n",
       "                            <span class=\"djtooltiptext\"></span>\n",
       "                        </div></th><th><div class=\"djtooltip\">\n",
       "                            <p id=\"nonprimary\">subject_description</p>\n",
       "                            <span class=\"djtooltiptext\"></span>\n",
       "                        </div> </th> </tr> </thead>\n",
       "            <tbody> <tr> <td>subject1</td>\n",
       "<td>M</td>\n",
       "<td>2020-12-30</td>\n",
       "<td>test animal</td></tr><tr><td>subject2</td>\n",
       "<td>F</td>\n",
       "<td>2020-11-30</td>\n",
       "<td>test animal</td></tr><tr><td>subject5</td>\n",
       "<td>F</td>\n",
       "<td>2020-01-01</td>\n",
       "<td>rich</td></tr><tr><td>subject6</td>\n",
       "<td>M</td>\n",
       "<td>2020-01-01</td>\n",
       "<td>manuel</td> </tr> </tbody>\n",
       "        </table>\n",
       "        \n",
       "        <p>Total: 4</p></div>\n",
       "        "
      ],
      "text/plain": [
       "*subject     sex     subject_birth_ subject_descri\n",
       "+----------+ +-----+ +------------+ +------------+\n",
       "subject1     M       2020-12-30     test animal   \n",
       "subject2     F       2020-11-30     test animal   \n",
       "subject5     F       2020-01-01     rich          \n",
       "subject6     M       2020-01-01     manuel        \n",
       " (Total: 4)"
      ]
     },
     "execution_count": 17,
     "metadata": {},
     "output_type": "execute_result"
    }
   ],
   "source": [
    "subject.Subject()"
   ]
  },
  {
   "cell_type": "code",
   "execution_count": 18,
   "id": "7a10ddab-d0fd-45a0-8183-09c1b1933e0a",
   "metadata": {},
   "outputs": [],
   "source": [
    "# `insert()` takes a list of dicts or tuples\n",
    "subject.Subject.insert(\n",
    "    [dict(subject='subject3', sex='F', subject_birth_date='2020-12-30', \n",
    "            subject_description='test animal'),\n",
    "     dict(subject='subject4', sex='M', subject_birth_date='2021-02-12', \n",
    "          subject_description='test animal')\n",
    "    ],\n",
    "    skip_duplicates=True)\n",
    "subject.Subject.insert(\n",
    "    [\n",
    "        ('subject7', 'U', '2020-08-30', 'test animal'),\n",
    "        ('subject8', 'F', '2020-09-30', 'test animal')\n",
    "    ],\n",
    "    skip_duplicates=True)"
   ]
  },
  {
   "cell_type": "code",
   "execution_count": 19,
   "id": "064ddaae-3410-47fc-be22-671d2afe7fb6",
   "metadata": {},
   "outputs": [
    {
     "data": {
      "text/html": [
       "\n",
       "    \n",
       "    <style type=\"text/css\">\n",
       "        .Relation{\n",
       "            border-collapse:collapse;\n",
       "        }\n",
       "        .Relation th{\n",
       "            background: #A0A0A0; color: #ffffff; padding:4px; border:#f0e0e0 1px solid;\n",
       "            font-weight: normal; font-family: monospace; font-size: 100%;\n",
       "        }\n",
       "        .Relation td{\n",
       "            padding:4px; border:#f0e0e0 1px solid; font-size:100%;\n",
       "        }\n",
       "        .Relation tr:nth-child(odd){\n",
       "            background: #ffffff;\n",
       "        }\n",
       "        .Relation tr:nth-child(even){\n",
       "            background: #f3f1ff;\n",
       "        }\n",
       "        /* Tooltip container */\n",
       "        .djtooltip {\n",
       "        }\n",
       "        /* Tooltip text */\n",
       "        .djtooltip .djtooltiptext {\n",
       "            visibility: hidden;\n",
       "            width: 120px;\n",
       "            background-color: black;\n",
       "            color: #fff;\n",
       "            text-align: center;\n",
       "            padding: 5px 0;\n",
       "            border-radius: 6px;\n",
       "            /* Position the tooltip text - see examples below! */\n",
       "            position: absolute;\n",
       "            z-index: 1;\n",
       "        }\n",
       "        #primary {\n",
       "            font-weight: bold;\n",
       "            color: black;\n",
       "        }\n",
       "        #nonprimary {\n",
       "            font-weight: normal;\n",
       "            color: white;\n",
       "        }\n",
       "\n",
       "        /* Show the tooltip text when you mouse over the tooltip container */\n",
       "        .djtooltip:hover .djtooltiptext {\n",
       "            visibility: visible;\n",
       "        }\n",
       "    </style>\n",
       "    \n",
       "    <b>Animal Subject</b>\n",
       "        <div style=\"max-height:1000px;max-width:1500px;overflow:auto;\">\n",
       "        <table border=\"1\" class=\"Relation\">\n",
       "            <thead> <tr style=\"text-align: right;\"> <th> <div class=\"djtooltip\">\n",
       "                            <p id=\"primary\">subject</p>\n",
       "                            <span class=\"djtooltiptext\"></span>\n",
       "                        </div></th><th><div class=\"djtooltip\">\n",
       "                            <p id=\"nonprimary\">sex</p>\n",
       "                            <span class=\"djtooltiptext\"></span>\n",
       "                        </div></th><th><div class=\"djtooltip\">\n",
       "                            <p id=\"nonprimary\">subject_birth_date</p>\n",
       "                            <span class=\"djtooltiptext\"></span>\n",
       "                        </div></th><th><div class=\"djtooltip\">\n",
       "                            <p id=\"nonprimary\">subject_description</p>\n",
       "                            <span class=\"djtooltiptext\"></span>\n",
       "                        </div> </th> </tr> </thead>\n",
       "            <tbody> <tr> <td>subject1</td>\n",
       "<td>M</td>\n",
       "<td>2020-12-30</td>\n",
       "<td>test animal</td></tr><tr><td>subject2</td>\n",
       "<td>F</td>\n",
       "<td>2020-11-30</td>\n",
       "<td>test animal</td></tr><tr><td>subject3</td>\n",
       "<td>F</td>\n",
       "<td>2020-12-30</td>\n",
       "<td>test animal</td></tr><tr><td>subject4</td>\n",
       "<td>M</td>\n",
       "<td>2021-02-12</td>\n",
       "<td>test animal</td></tr><tr><td>subject5</td>\n",
       "<td>F</td>\n",
       "<td>2020-01-01</td>\n",
       "<td>rich</td></tr><tr><td>subject6</td>\n",
       "<td>M</td>\n",
       "<td>2020-01-01</td>\n",
       "<td>manuel</td></tr><tr><td>subject7</td>\n",
       "<td>U</td>\n",
       "<td>2020-08-30</td>\n",
       "<td>test animal</td></tr><tr><td>subject8</td>\n",
       "<td>F</td>\n",
       "<td>2020-09-30</td>\n",
       "<td>test animal</td> </tr> </tbody>\n",
       "        </table>\n",
       "        \n",
       "        <p>Total: 8</p></div>\n",
       "        "
      ],
      "text/plain": [
       "*subject     sex     subject_birth_ subject_descri\n",
       "+----------+ +-----+ +------------+ +------------+\n",
       "subject1     M       2020-12-30     test animal   \n",
       "subject2     F       2020-11-30     test animal   \n",
       "subject3     F       2020-12-30     test animal   \n",
       "subject4     M       2021-02-12     test animal   \n",
       "subject5     F       2020-01-01     rich          \n",
       "subject6     M       2020-01-01     manuel        \n",
       "subject7     U       2020-08-30     test animal   \n",
       "subject8     F       2020-09-30     test animal   \n",
       " (Total: 8)"
      ]
     },
     "execution_count": 19,
     "metadata": {},
     "output_type": "execute_result"
    }
   ],
   "source": [
    "subject.Subject()"
   ]
  },
  {
   "cell_type": "markdown",
   "id": "c47691a0-b016-4092-a5ad-fefff93c54dd",
   "metadata": {},
   "source": [
    "For more documentation of insert, please refer to [DataJoint Docs](https://docs.datajoint.org/python/manipulation/1-Insert.html) and [DataJoint CodeBook](https://codebook.datajoint.io/)"
   ]
  },
  {
   "cell_type": "markdown",
   "id": "13f8a8ed-2656-46d8-82ba-cdf130c4873e",
   "metadata": {},
   "source": [
    "## Insert into Manual and Lookup tables with a Graphical User Interface"
   ]
  },
  {
   "cell_type": "markdown",
   "id": "4775dd80-8a54-47b7-a9ba-99995db9ff1a",
   "metadata": {},
   "source": [
    "DataJoint also provides a graphical user interface ([DataJoint LabBook](https://github.com/datajoint/datajoint-labbook)) to support manual data insertions into DataJoint workflows. \n",
    "\n",
    "![DataJoint LabBook preview](https://github.com/datajoint/datajoint-labbook/blob/master/docs/sphinx/_static/images/walkthroughDemoOptimized.gif?raw=true)"
   ]
  },
  {
   "cell_type": "markdown",
   "id": "83a93039",
   "metadata": {},
   "source": []
  }
 ],
 "metadata": {
  "kernelspec": {
   "display_name": "Python 3.8.11 ('ele')",
   "language": "python",
   "name": "python3"
  },
  "language_info": {
   "codemirror_mode": {
    "name": "ipython",
    "version": 3
   },
   "file_extension": ".py",
   "mimetype": "text/x-python",
   "name": "python",
   "nbconvert_exporter": "python",
   "pygments_lexer": "ipython3",
   "version": "3.8.11"
  },
  "vscode": {
   "interpreter": {
    "hash": "61456c693db5d9aa6731701ec9a9b08ab88a172bee0780139a3679beb166da16"
   }
  }
 },
 "nbformat": 4,
 "nbformat_minor": 5
}
