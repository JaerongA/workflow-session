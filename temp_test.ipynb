{
 "cells": [
  {
   "cell_type": "code",
   "execution_count": 1,
   "id": "f13c2734-23db-435f-bc9e-68064cdcc82b",
   "metadata": {},
   "outputs": [
    {
     "name": "stdout",
     "output_type": "stream",
     "text": [
      "Connecting root@localhost:3306\n"
     ]
    }
   ],
   "source": [
    "import datajoint as dj\n",
    "dj.conn()\n",
    "import csv"
   ]
  },
  {
   "cell_type": "code",
   "execution_count": 2,
   "id": "cb32b7a1-37b4-45c1-8d03-02c8bbd09b04",
   "metadata": {},
   "outputs": [],
   "source": [
    "from workflow_session.pipeline import lab, subject, session\n",
    "from workflow_session.ingest import *"
   ]
  },
  {
   "cell_type": "code",
   "execution_count": 3,
   "id": "e94beab4-02f3-464d-989f-24651a8bef8a",
   "metadata": {},
   "outputs": [
    {
     "name": "stdout",
     "output_type": "stream",
     "text": [
      "\n",
      "---- Insert 2 entry(s) into lab tables ----\n",
      "\n",
      "---- Insert 2 entry(s) into project table ----\n",
      "\n",
      "---- Insert entry(s) into publication/keyword tables ----\n",
      "\n",
      "---- Insert 2 entry(s) into protocol tables ----\n",
      "\n",
      "---- Insert 2 entry(s) into subject tables ----\n",
      "\n",
      "---- Insert 2 entry(s) into session.Session ----\n"
     ]
    }
   ],
   "source": [
    "ingest_lab(); ingest_subjects();ingest_sessions()"
   ]
  },
  {
   "cell_type": "code",
   "execution_count": 4,
   "id": "e306d9dc-ce9a-4485-b8da-eea7d852e5aa",
   "metadata": {},
   "outputs": [
    {
     "name": "stdout",
     "output_type": "stream",
     "text": [
      "*lab     lab_name       institution    address        time_zone    \n",
      "+------+ +------------+ +------------+ +------------+ +-----------+\n",
      "LabA     The Example La Example Uni    221B Baker St, UTC+0        \n",
      " (Total: 1)\n",
      "\n",
      "*project    project_descri repositoryurl  repositoryname pharmacology   viruses     slices     stimulus       surgery    \n",
      "+---------+ +------------+ +------------+ +------------+ +------------+ +---------+ +--------+ +------------+ +---------+\n",
      "ProjA       Example projec https://github element-lab                                          videos generat            \n",
      " (Total: 1)\n",
      "\n",
      "*protocol    protocol_type  protocol_descr\n",
      "+----------+ +------------+ +------------+\n",
      "ProtA        IRB expedited  Protocol for m\n",
      " (Total: 1)\n",
      "\n"
     ]
    }
   ],
   "source": [
    "print(lab.Lab & 'lab=\"LabA\"')\n",
    "print(lab.Project & 'project=\"ProjA\"')\n",
    "print(lab.Protocol() & 'protocol=\"ProtA\"')\n",
    "\n",
    "lab_info = (lab.Lab & 'lab=\"LabA\"').fetch1()\n",
    "proj_info = (lab.Project & 'project=\"ProjA\"').fetch1()\n",
    "prot_info = (lab.Protocol() & 'protocol=\"ProtA\"').fetch1()"
   ]
  },
  {
   "cell_type": "code",
   "execution_count": 5,
   "id": "fd053496-eec1-4035-9369-fdf96e53fa95",
   "metadata": {},
   "outputs": [
    {
     "name": "stderr",
     "output_type": "stream",
     "text": [
      "/Users/cb/miniconda3/envs/venv-nwb/lib/python3.8/site-packages/pynwb/file.py:753: UserWarning: Date is missing timezone information. Updating to local timezone.\n",
      "  warn(\"Date is missing timezone information. Updating to local timezone.\")\n"
     ]
    },
    {
     "data": {
      "text/plain": [
       "root pynwb.file.NWBFile at 0x140690194467040\n",
       "Fields:\n",
       "  file_create_date: [datetime.datetime(2021, 12, 1, 14, 22, 4, 992693, tzinfo=tzlocal())]\n",
       "  identifier: subject5_20200415_111638\n",
       "  institution: Example Uni\n",
       "  session_description: Successful data collection, no notes\n",
       "  session_start_time: 2020-04-15 11:16:38-05:00\n",
       "  timestamps_reference_time: 2020-04-15 11:16:38-05:00"
      ]
     },
     "execution_count": 5,
     "metadata": {},
     "output_type": "execute_result"
    }
   ],
   "source": [
    "import pynwb\n",
    "from element_session.export import *\n",
    "session_key=(session.Session&'subject=\"subject5\"').fetch1('KEY')\n",
    "mylab_key = (lab.Lab & 'lab=\"LabA\"').fetch1('KEY')\n",
    "myproj_key= (lab.Project & 'project=\"ProjA\"').fetch1('KEY')\n",
    "myprot_key= (lab.Protocol() & 'protocol=\"ProtA\"').fetch1('KEY')\n",
    "session_to_nwb(session_key,lab_key=mylab_key,project_key=myproj_key)"
   ]
  },
  {
   "cell_type": "code",
   "execution_count": 32,
   "id": "a3e1f490-7510-4f08-af66-c106f640928b",
   "metadata": {},
   "outputs": [
    {
     "data": {
      "text/plain": [
       "root pynwb.file.NWBFile at 0x140337549119696\n",
       "Fields:\n",
       "  file_create_date: [datetime.datetime(2021, 12, 1, 14, 21, 26, 638467, tzinfo=tzlocal())]\n",
       "  identifier: subject5_20200415_111638\n",
       "  institution: Example Uni\n",
       "  protocol: ProtA\n",
       "  session_description: Successful data collection, no notes\n",
       "  session_start_time: 2020-04-15 11:16:38-05:00\n",
       "  timestamps_reference_time: 2020-04-15 11:16:38-05:00"
      ]
     },
     "execution_count": 32,
     "metadata": {},
     "output_type": "execute_result"
    }
   ],
   "source": [
    "mynwbfile"
   ]
  },
  {
   "cell_type": "code",
   "execution_count": 100,
   "id": "d982c732-8a8f-435d-ab16-aa37a0e99904",
   "metadata": {},
   "outputs": [],
   "source": [
    "session_key=(session.Session&'subject=\"subject5\"').fetch1('KEY')\n",
    "session_identifier = {}\n",
    "for k, v in session_key.items():\n",
    "    session_identifier[k] = v.strftime('%Y%m%d_%H%M%S') if isinstance(v, datetime) else v\n",
    "\n",
    "session_info = (session.Session & session_key).join(session.SessionNote, left=True).fetch1()\n",
    "\n",
    "def mytuple():\n",
    "    identifier='_'.join(session_identifier.values()),\n",
    "    session_description=session_info['session_note'] if session_info['session_note'] else '',\n",
    "    session_start_time=session_info['session_datetime']\n",
    "    return identifier,session_description,session_start_time\n",
    "info=dict(identifier='_'.join(session_identifier.values()),\n",
    "    session_description='Note',\n",
    "    session_start_time=session_info['session_datetime'],\n",
    "    institution='')\n",
    "info={k: v for k, v in info.items() if v} #drop empty\n",
    "asstring = ','.join('='.join((str(key),val)) for (key,val) in info.items())"
   ]
  },
  {
   "cell_type": "code",
   "execution_count": 12,
   "id": "ef8b5fb3-8b19-403c-a954-150c1ec8cf41",
   "metadata": {},
   "outputs": [],
   "source": [
    "a=None;b=None;c=None\n",
    "if [x for x in (a, b,c) if x is not None]: print('g')"
   ]
  },
  {
   "cell_type": "code",
   "execution_count": null,
   "id": "91347a4f-9024-4a33-a1b1-42d903d9b132",
   "metadata": {},
   "outputs": [],
   "source": []
  }
 ],
 "metadata": {
  "kernelspec": {
   "display_name": "venv-nwb",
   "language": "python",
   "name": "venv-nwb"
  },
  "language_info": {
   "codemirror_mode": {
    "name": "ipython",
    "version": 3
   },
   "file_extension": ".py",
   "mimetype": "text/x-python",
   "name": "python",
   "nbconvert_exporter": "python",
   "pygments_lexer": "ipython3",
   "version": "3.8.11"
  }
 },
 "nbformat": 4,
 "nbformat_minor": 5
}
