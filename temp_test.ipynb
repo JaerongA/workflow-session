{
 "cells": [
  {
   "cell_type": "markdown",
   "id": "3f1d9665-2983-425c-b4a6-8e6d45f1ad34",
   "metadata": {},
   "source": [
    "## Initial Dev"
   ]
  },
  {
   "cell_type": "code",
   "execution_count": 1,
   "id": "f13c2734-23db-435f-bc9e-68064cdcc82b",
   "metadata": {},
   "outputs": [
    {
     "name": "stdout",
     "output_type": "stream",
     "text": [
      "Connecting root@localhost:3306\n"
     ]
    }
   ],
   "source": [
    "import datajoint as dj\n",
    "dj.conn()\n",
    "import csv"
   ]
  },
  {
   "cell_type": "code",
   "execution_count": 2,
   "id": "cb32b7a1-37b4-45c1-8d03-02c8bbd09b04",
   "metadata": {},
   "outputs": [],
   "source": [
    "from workflow_session.pipeline import lab, subject, session\n",
    "from workflow_session.ingest import *"
   ]
  },
  {
   "cell_type": "code",
   "execution_count": 3,
   "id": "e94beab4-02f3-464d-989f-24651a8bef8a",
   "metadata": {},
   "outputs": [
    {
     "name": "stdout",
     "output_type": "stream",
     "text": [
      "\n",
      "---- Insert 2 entry(s) into lab tables ----\n",
      "\n",
      "---- Insert 2 entry(s) into project table ----\n",
      "\n",
      "---- Insert entry(s) into publication/keyword tables ----\n",
      "\n",
      "---- Insert 2 entry(s) into protocol tables ----\n",
      "\n",
      "---- Insert 2 entry(s) into subject tables ----\n",
      "\n",
      "---- Insert 2 entry(s) into session.Session ----\n"
     ]
    }
   ],
   "source": [
    "ingest_lab(); ingest_subjects();ingest_sessions()"
   ]
  },
  {
   "cell_type": "code",
   "execution_count": 4,
   "id": "e306d9dc-ce9a-4485-b8da-eea7d852e5aa",
   "metadata": {},
   "outputs": [
    {
     "name": "stdout",
     "output_type": "stream",
     "text": [
      "*lab     lab_name       institution    address        time_zone    \n",
      "+------+ +------------+ +------------+ +------------+ +-----------+\n",
      "LabA     The Example La Example Uni    221B Baker St, UTC+0        \n",
      " (Total: 1)\n",
      "\n",
      "*project    project_descri repositoryurl  repositoryname pharmacology   viruses     slices     stimulus       surgery    \n",
      "+---------+ +------------+ +------------+ +------------+ +------------+ +---------+ +--------+ +------------+ +---------+\n",
      "ProjA       Example projec https://github element-lab                                          videos generat            \n",
      " (Total: 1)\n",
      "\n",
      "*protocol    protocol_type  protocol_descr\n",
      "+----------+ +------------+ +------------+\n",
      "ProtA        IRB expedited  Protocol for m\n",
      " (Total: 1)\n",
      "\n"
     ]
    }
   ],
   "source": [
    "print(lab.Lab & 'lab=\"LabA\"')\n",
    "print(lab.Project & 'project=\"ProjA\"')\n",
    "print(lab.Protocol() & 'protocol=\"ProtA\"')\n",
    "\n",
    "lab_info = (lab.Lab & 'lab=\"LabA\"').fetch1()\n",
    "proj_info = (lab.Project & 'project=\"ProjA\"').fetch1()\n",
    "prot_info = (lab.Protocol() & 'protocol=\"ProtA\"').fetch1()"
   ]
  },
  {
   "cell_type": "code",
   "execution_count": 5,
   "id": "fd053496-eec1-4035-9369-fdf96e53fa95",
   "metadata": {},
   "outputs": [
    {
     "name": "stderr",
     "output_type": "stream",
     "text": [
      "/Users/cb/miniconda3/envs/venv-nwb/lib/python3.8/site-packages/pynwb/file.py:753: UserWarning: Date is missing timezone information. Updating to local timezone.\n",
      "  warn(\"Date is missing timezone information. Updating to local timezone.\")\n"
     ]
    },
    {
     "data": {
      "text/plain": [
       "root pynwb.file.NWBFile at 0x140690194467040\n",
       "Fields:\n",
       "  file_create_date: [datetime.datetime(2021, 12, 1, 14, 22, 4, 992693, tzinfo=tzlocal())]\n",
       "  identifier: subject5_20200415_111638\n",
       "  institution: Example Uni\n",
       "  session_description: Successful data collection, no notes\n",
       "  session_start_time: 2020-04-15 11:16:38-05:00\n",
       "  timestamps_reference_time: 2020-04-15 11:16:38-05:00"
      ]
     },
     "execution_count": 5,
     "metadata": {},
     "output_type": "execute_result"
    }
   ],
   "source": [
    "import pynwb\n",
    "from element_session.export import *\n",
    "session_key=(session.Session&'subject=\"subject5\"').fetch1('KEY')\n",
    "mylab_key = (lab.Lab & 'lab=\"LabA\"').fetch1('KEY')\n",
    "myproj_key= (lab.Project & 'project=\"ProjA\"').fetch1('KEY')\n",
    "myprot_key= (lab.Protocol() & 'protocol=\"ProtA\"').fetch1('KEY')\n",
    "session_to_nwb(session_key,lab_key=mylab_key,project_key=myproj_key)"
   ]
  },
  {
   "cell_type": "code",
   "execution_count": 32,
   "id": "a3e1f490-7510-4f08-af66-c106f640928b",
   "metadata": {},
   "outputs": [
    {
     "data": {
      "text/plain": [
       "root pynwb.file.NWBFile at 0x140337549119696\n",
       "Fields:\n",
       "  file_create_date: [datetime.datetime(2021, 12, 1, 14, 21, 26, 638467, tzinfo=tzlocal())]\n",
       "  identifier: subject5_20200415_111638\n",
       "  institution: Example Uni\n",
       "  protocol: ProtA\n",
       "  session_description: Successful data collection, no notes\n",
       "  session_start_time: 2020-04-15 11:16:38-05:00\n",
       "  timestamps_reference_time: 2020-04-15 11:16:38-05:00"
      ]
     },
     "execution_count": 32,
     "metadata": {},
     "output_type": "execute_result"
    }
   ],
   "source": [
    "mynwbfile"
   ]
  },
  {
   "cell_type": "code",
   "execution_count": 100,
   "id": "d982c732-8a8f-435d-ab16-aa37a0e99904",
   "metadata": {},
   "outputs": [],
   "source": [
    "session_key=(session.Session&'subject=\"subject5\"').fetch1('KEY')\n",
    "session_identifier = {}\n",
    "for k, v in session_key.items():\n",
    "    session_identifier[k] = v.strftime('%Y%m%d_%H%M%S') if isinstance(v, datetime) else v\n",
    "\n",
    "session_info = (session.Session & session_key).join(session.SessionNote, left=True).fetch1()\n",
    "\n",
    "def mytuple():\n",
    "    identifier='_'.join(session_identifier.values()),\n",
    "    session_description=session_info['session_note'] if session_info['session_note'] else '',\n",
    "    session_start_time=session_info['session_datetime']\n",
    "    return identifier,session_description,session_start_time\n",
    "info=dict(identifier='_'.join(session_identifier.values()),\n",
    "    session_description='Note',\n",
    "    session_start_time=session_info['session_datetime'],\n",
    "    institution='')\n",
    "info={k: v for k, v in info.items() if v} #drop empty\n",
    "asstring = ','.join('='.join((str(key),val)) for (key,val) in info.items())"
   ]
  },
  {
   "cell_type": "code",
   "execution_count": 12,
   "id": "ef8b5fb3-8b19-403c-a954-150c1ec8cf41",
   "metadata": {},
   "outputs": [],
   "source": [
    "a=None;b=None;c=None\n",
    "if [x for x in (a, b,c) if x is not None]: print('g')"
   ]
  },
  {
   "cell_type": "markdown",
   "id": "1764858b-2470-4b81-b02a-dd0121d46210",
   "metadata": {},
   "source": [
    "## Orig ingest, before generalize"
   ]
  },
  {
   "cell_type": "code",
   "execution_count": 29,
   "id": "e5e9d016-f2a7-4db5-9d8f-c4a6c06f693c",
   "metadata": {},
   "outputs": [
    {
     "name": "stdout",
     "output_type": "stream",
     "text": [
      "\n",
      "---- Inserting 0 entry(s) into lab tables ----\n",
      "\n",
      "---- Inserting 0 entry(s) into project table ----\n",
      "\n",
      "---- Inserting 0 entry(s) into publication/keyword tables ----\n",
      "\n",
      "---- Inserting 0 entry(s) into protocol tables ----\n",
      "\n",
      "---- Inserting 0 entry(s) into subject tables ----\n",
      "\n",
      "---- Inserting 0 entry(s) into session.Session ----\n"
     ]
    }
   ],
   "source": [
    "def ingest_lab(lab_csv_path='./user_data/lab/labs.csv',\n",
    "                project_csv_path='./user_data/lab/projects.csv',\n",
    "                pubs_csv_path='./user_data/lab/publications.csv',\n",
    "                keyw_csv_path='./user_data/lab/keywords.csv',\n",
    "                protocol_csv_path='./user_data/lab/protocols.csv',\n",
    "                skip_duplicates=True, ignore_extra_fields=True):\n",
    "        # -------------- Insert new \"Lab\" --------------\n",
    "    with open(lab_csv_path, newline= '') as f:\n",
    "        input_labs = list(csv.DictReader(f, delimiter=','))\n",
    "\n",
    "    prev_len = len(lab.Lab())\n",
    "    lab.Lab.insert(input_labs, skip_duplicates=skip_duplicates,\n",
    "                               ignore_extra_fields=ignore_extra_fields)\n",
    "    lab.Location.insert(input_labs, skip_duplicates=skip_duplicates,\n",
    "                               ignore_extra_fields=ignore_extra_fields)\n",
    "    insert_len = len(lab.Lab()) - prev_len\n",
    "    \n",
    "    print(f'\\n---- Inserting {insert_len} entry(s) into lab tables ----')\n",
    "\n",
    "    # -------------- Insert new \"Project\" --------------\n",
    "    with open(project_csv_path, newline= '') as f:\n",
    "        input_projs = list(csv.DictReader(f, delimiter=','))\n",
    "    \n",
    "    prev_len = len(lab.Project())\n",
    "    lab.Project.insert(input_projs, skip_duplicates=skip_duplicates,\n",
    "                                    ignore_extra_fields=ignore_extra_fields)\n",
    "    insert_len = len(lab.Project()) - prev_len\n",
    "    print(f'\\n---- Inserting {insert_len} entry(s) into project table ----')\n",
    "\n",
    "    # -------------- Insert publications + keywords --------------\n",
    "    with open(pubs_csv_path, newline= '') as f:\n",
    "        input_pubs = list(csv.DictReader(f, delimiter=','))\n",
    "    with open(keyw_csv_path, newline= '') as f:\n",
    "        input_keyw = list(csv.DictReader(f, delimiter=','))\n",
    "    \n",
    "    prev_len = len(lab.Project.Publication()) + len(lab.Project.Keywords())\n",
    "    lab.Project.Publication.insert(input_pubs, skip_duplicates=skip_duplicates,\n",
    "                                               ignore_extra_fields=ignore_extra_fields)\n",
    "    lab.Project.Keywords.insert(input_keyw, skip_duplicates=skip_duplicates,\n",
    "                                            ignore_extra_fields=ignore_extra_fields)\n",
    "    insert_len = len(lab.Project.Publication()) + len(lab.Project.Keywords()) - prev_len\n",
    "    \n",
    "    print(f'\\n---- Inserting {insert_len} entry(s) into publication/keyword tables ----')\n",
    "\n",
    "    # -------------- Insert new \"Protocol\" --------------\n",
    "    with open(protocol_csv_path, newline= '') as f:\n",
    "        input_prots = list(csv.DictReader(f, delimiter=','))\n",
    "    prev_len = len(lab.Protocol())\n",
    "    lab.Protocol.insert(input_prots, skip_duplicates=skip_duplicates,\n",
    "                                    ignore_extra_fields=ignore_extra_fields)\n",
    "    lab.ProtocolType.insert(input_prots, skip_duplicates=skip_duplicates,\n",
    "                                    ignore_extra_fields=ignore_extra_fields)\n",
    "    insert_len = len(lab.Protocol()) - prev_len\n",
    "    print(f'\\n---- Inserting {insert_len} entry(s) into protocol tables ----')\n",
    "\n",
    "def ingest_subjects(subject_csv_path='./user_data/animal/subjects.csv'):\n",
    "    # -------------- Insert new \"Subject\" --------------\n",
    "    with open(subject_csv_path, newline= '') as f:\n",
    "        input_subjects = list(csv.DictReader(f, delimiter=','))\n",
    "    print(f'\\n---- Inserting {insert_len} entry(s) into subject tables ----')\n",
    "    subject.Subject.insert(input_subjects, skip_duplicates=skip_duplicates,\n",
    "                                    ignore_extra_fields=ignore_extra_fields)\n",
    "    subject.SubjectDeath.insert(input_subjects, skip_duplicates=skip_duplicates,\n",
    "                                    ignore_extra_fields=ignore_extra_fields)\n",
    "    subject.SubjectCullMethod.insert(input_subjects, skip_duplicates=skip_duplicates,\n",
    "                                    ignore_extra_fields=ignore_extra_fields)\n",
    "    ## Skipped allele info\n",
    "\n",
    "def ingest_sessions(session_csv_path='./user_data/session/sessions.csv'):\n",
    "    with open(session_csv_path, newline= '') as f:\n",
    "        input_sessions = list(csv.DictReader(f, delimiter=','))\n",
    "\n",
    "    print(f'\\n---- Inserting {insert_len} entry(s) into session.Session ----')\n",
    "    session.Session.insert(input_sessions, skip_duplicates=skip_duplicates,\n",
    "                                    ignore_extra_fields=ignore_extra_fields)\n",
    "    session.SessionDirectory.insert(input_sessions, skip_duplicates=skip_duplicates,\n",
    "                                    ignore_extra_fields=ignore_extra_fields)\n",
    "\n",
    "    ## Type Error: 'NoneType' object is not iterable\n",
    "    # session.SessionNote.insert(input_sessions, skip_duplicates=skip_duplicates,\n",
    "                                    # ignore_extra_fields=ignore_extra_fields)\n",
    "\n",
    "\n",
    "if __name__ == '__main__':\n",
    "    ingest_lab()\n",
    "    ingest_subjects()\n",
    "    ingest_sessions()"
   ]
  },
  {
   "cell_type": "code",
   "execution_count": 1,
   "id": "91347a4f-9024-4a33-a1b1-42d903d9b132",
   "metadata": {},
   "outputs": [
    {
     "data": {
      "text/plain": [
       "'/Volumes/GoogleDrive/My Drive/NWB/workflow-session'"
      ]
     },
     "execution_count": 1,
     "metadata": {},
     "output_type": "execute_result"
    }
   ],
   "source": [
    "pwd"
   ]
  },
  {
   "cell_type": "code",
   "execution_count": 1,
   "id": "08b9898a-d07f-4baa-8bf9-6344fa0a7a82",
   "metadata": {},
   "outputs": [
    {
     "name": "stdout",
     "output_type": "stream",
     "text": [
      "Connecting root@localhost:3306\n"
     ]
    }
   ],
   "source": [
    "import datajoint as dj; dj.conn()\n",
    "import pathlib\n",
    "import csv\n",
    "import re\n",
    "from workflow_session.pipeline import lab, subject, session\n",
    "from workflow_session.paths import get_root_data_dir\n",
    "import element_data_loader.utils"
   ]
  },
  {
   "cell_type": "code",
   "execution_count": 2,
   "id": "6bbc3fb1-01bb-42c9-ac99-83398e49a7a6",
   "metadata": {},
   "outputs": [
    {
     "name": "stdout",
     "output_type": "stream",
     "text": [
      "\n",
      "---- Inserting 0 entry(s) into #location ----\n"
     ]
    },
    {
     "ename": "AttributeError",
     "evalue": "'dict' object has no attribute 'insert'",
     "output_type": "error",
     "traceback": [
      "\u001b[0;31m---------------------------------------------------------------------------\u001b[0m",
      "\u001b[0;31mAttributeError\u001b[0m                            Traceback (most recent call last)",
      "\u001b[0;32m/var/folders/_9/tzvq__ws5z9gv5s7jvkj570r0000gn/T/ipykernel_7090/3634625444.py\u001b[0m in \u001b[0;36m<module>\u001b[0;34m\u001b[0m\n\u001b[1;32m      1\u001b[0m \u001b[0;32mfrom\u001b[0m \u001b[0mworkflow_session\u001b[0m\u001b[0;34m.\u001b[0m\u001b[0mingest\u001b[0m \u001b[0;32mimport\u001b[0m \u001b[0;34m*\u001b[0m\u001b[0;34m\u001b[0m\u001b[0;34m\u001b[0m\u001b[0m\n\u001b[0;32m----> 2\u001b[0;31m \u001b[0mingest_lab\u001b[0m\u001b[0;34m(\u001b[0m\u001b[0;34m)\u001b[0m\u001b[0;34m;\u001b[0m \u001b[0mingest_subjects\u001b[0m\u001b[0;34m(\u001b[0m\u001b[0;34m)\u001b[0m\u001b[0;34m;\u001b[0m\u001b[0mingest_sessions\u001b[0m\u001b[0;34m(\u001b[0m\u001b[0;34m)\u001b[0m\u001b[0;34m\u001b[0m\u001b[0;34m\u001b[0m\u001b[0m\n\u001b[0m",
      "\u001b[0;32m/Volumes/GoogleDrive/My Drive/NWB/workflow-session/workflow_session/ingest.py\u001b[0m in \u001b[0;36mingest_lab\u001b[0;34m(lab_csv_path, project_csv_path, pubs_csv_path, keyw_csv_path, protocol_csv_path, skip_duplicates)\u001b[0m\n\u001b[1;32m     55\u001b[0m             [lab.Protocol(), lab.ProtocolType()]]\n\u001b[1;32m     56\u001b[0m \u001b[0;34m\u001b[0m\u001b[0m\n\u001b[0;32m---> 57\u001b[0;31m     \u001b[0mingest_general\u001b[0m\u001b[0;34m(\u001b[0m\u001b[0mcsvs\u001b[0m\u001b[0;34m,\u001b[0m \u001b[0mtables\u001b[0m\u001b[0;34m,\u001b[0m \u001b[0mskip_duplicates\u001b[0m\u001b[0;34m=\u001b[0m\u001b[0mskip_duplicates\u001b[0m\u001b[0;34m)\u001b[0m\u001b[0;34m\u001b[0m\u001b[0;34m\u001b[0m\u001b[0m\n\u001b[0m\u001b[1;32m     58\u001b[0m \u001b[0;34m\u001b[0m\u001b[0m\n\u001b[1;32m     59\u001b[0m def ingest_subjects(subject_csv_path='./user_data/animal/subjects.csv',\n",
      "\u001b[0;32m/Volumes/GoogleDrive/My Drive/NWB/workflow-session/workflow_session/ingest.py\u001b[0m in \u001b[0;36mingest_general\u001b[0;34m(csvs, tables, skip_duplicates)\u001b[0m\n\u001b[1;32m     25\u001b[0m             \u001b[0;32mfor\u001b[0m \u001b[0mt\u001b[0m \u001b[0;32min\u001b[0m \u001b[0mtable\u001b[0m\u001b[0;34m:\u001b[0m                        \u001b[0;31m# loop multiple tables\u001b[0m\u001b[0;34m\u001b[0m\u001b[0;34m\u001b[0m\u001b[0m\n\u001b[1;32m     26\u001b[0m                 \u001b[0mprev_len\u001b[0m \u001b[0;34m=\u001b[0m \u001b[0mlen\u001b[0m\u001b[0;34m(\u001b[0m\u001b[0mt\u001b[0m\u001b[0;34m)\u001b[0m                  \u001b[0;31m# measure prev length\u001b[0m\u001b[0;34m\u001b[0m\u001b[0;34m\u001b[0m\u001b[0m\n\u001b[0;32m---> 27\u001b[0;31m                 t.insert(data, skip_duplicates=skip_duplicates, # insert\n\u001b[0m\u001b[1;32m     28\u001b[0m                          ignore_extra_fields=True) # must be true for csvs w/mult tables\n\u001b[1;32m     29\u001b[0m                 \u001b[0minsert_len\u001b[0m \u001b[0;34m=\u001b[0m \u001b[0mlen\u001b[0m\u001b[0;34m(\u001b[0m\u001b[0mt\u001b[0m\u001b[0;34m)\u001b[0m \u001b[0;34m-\u001b[0m \u001b[0mprev_len\u001b[0m     \u001b[0;31m# report length change\u001b[0m\u001b[0;34m\u001b[0m\u001b[0;34m\u001b[0m\u001b[0m\n",
      "\u001b[0;31mAttributeError\u001b[0m: 'dict' object has no attribute 'insert'"
     ]
    }
   ],
   "source": [
    "from workflow_session.ingest import *\n",
    "ingest_lab(); ingest_subjects();ingest_sessions()"
   ]
  },
  {
   "cell_type": "code",
   "execution_count": 9,
   "id": "3b2f2ff2-c6b4-489e-94be-b98dbfdfea12",
   "metadata": {},
   "outputs": [
    {
     "name": "stdout",
     "output_type": "stream",
     "text": [
      "lab                  : varchar(24)                  # Abbreviated lab name\n",
      "---\n",
      "lab_name             : varchar(255)                 # full lab name\n",
      "institution          : varchar(255)                 \n",
      "address              : varchar(255)                 \n",
      "time_zone            : varchar(32)                  # UTC offset suggested e.g., UTC+1\n",
      "\n"
     ]
    }
   ],
   "source": [
    "table=[lab.Lab()]\n",
    "for t in table:\n",
    "    t.describe()"
   ]
  },
  {
   "cell_type": "code",
   "execution_count": 6,
   "id": "f9fb0145-30ee-46f6-9f2c-bd0945be2f02",
   "metadata": {},
   "outputs": [
    {
     "name": "stdout",
     "output_type": "stream",
     "text": [
      "[*lab     lab_name       institution    address        time_zone    \n",
      "+------+ +------------+ +------------+ +------------+ +-----------+\n",
      "LabA     The Example La Example Uni    221B Baker St, UTC+0        \n",
      "LabB     The Other Lab  Other Uni      Oxford OX1 2JD UTC+0        \n",
      " (Total: 2)\n",
      "]\n"
     ]
    }
   ],
   "source": [
    "if not isinstance(lab.Lab(),list): print([lab.Lab()])"
   ]
  },
  {
   "cell_type": "code",
   "execution_count": 5,
   "id": "c56a3e3c-76a3-473f-970a-5507dee55d20",
   "metadata": {},
   "outputs": [
    {
     "data": {
      "text/plain": [
       "element_lab.lab.Lab"
      ]
     },
     "execution_count": 5,
     "metadata": {},
     "output_type": "execute_result"
    }
   ],
   "source": [
    "type(lab.Lab())"
   ]
  },
  {
   "cell_type": "code",
   "execution_count": null,
   "id": "cfd86c54-b602-46e5-b2ff-b66a1f41a879",
   "metadata": {},
   "outputs": [],
   "source": []
  }
 ],
 "metadata": {
  "kernelspec": {
   "display_name": "venv-nwb",
   "language": "python",
   "name": "venv-nwb"
  },
  "language_info": {
   "codemirror_mode": {
    "name": "ipython",
    "version": 3
   },
   "file_extension": ".py",
   "mimetype": "text/x-python",
   "name": "python",
   "nbconvert_exporter": "python",
   "pygments_lexer": "ipython3",
   "version": "3.8.11"
  }
 },
 "nbformat": 4,
 "nbformat_minor": 5
}
